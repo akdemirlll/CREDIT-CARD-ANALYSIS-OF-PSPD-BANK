{
 "cells": [
  {
   "cell_type": "markdown",
   "metadata": {},
   "source": [
    "  \n",
    "<div class=\"span5 alert alert-info\">\n",
    "<h1>CREDIT-CARD-ANALYSIS-OF-PSPD-BANK </h1>\n",
    "<br/>\n",
    "\n",
    "</div>"
   ]
  },
  {
   "cell_type": "markdown",
   "metadata": {
    "toc": true
   },
   "source": [
    "<h1>Table of Contents<span class=\"tocSkip\"></span></h1>\n",
    "<div class=\"toc\"><ul class=\"toc-item\"><li><span><a href=\"#CREDIT-CARD-ANALYSIS-OF-PSPD-BANK-\" data-toc-modified-id=\"CREDIT-CARD-ANALYSIS-OF-PSPD-BANK--1\">CREDIT-CARD-ANALYSIS-OF-PSPD-BANK </a></span><ul class=\"toc-item\"><li><ul class=\"toc-item\"><li><span><a href=\"#About-the-analytics-in-credit-card-industry:\" data-toc-modified-id=\"About-the-analytics-in-credit-card-industry:-1.0.1\">About the analytics in credit card industry:</a></span></li><li><span><a href=\"#Recognition-of-the-customer-behavior:\" data-toc-modified-id=\"Recognition-of-the-customer-behavior:-1.0.2\">Recognition of the customer behavior:</a></span></li><li><span><a href=\"#Problem-Statement:\" data-toc-modified-id=\"Problem-Statement:-1.0.3\">Problem Statement:</a></span></li><li><span><a href=\"#About-the-Dataset:\" data-toc-modified-id=\"About-the-Dataset:-1.0.4\">About the Dataset:</a></span></li></ul></li></ul></li><li><span><a href=\"#1.-Data-Cleaning\" data-toc-modified-id=\"1.-Data-Cleaning-2\">1. Data Cleaning</a></span><ul class=\"toc-item\"><li><span><a href=\"#1.1-Packages-to-be-Imported\" data-toc-modified-id=\"1.1-Packages-to-be-Imported-2.1\">1.1 Packages to be Imported</a></span></li><li><span><a href=\"#1.2-General-Info-about-the-Customer-Dataset\" data-toc-modified-id=\"1.2-General-Info-about-the-Customer-Dataset-2.2\">1.2 General Info about the Customer Dataset</a></span><ul class=\"toc-item\"><li><span><a href=\"#1.2.1-Data-Wrangling-about-the-Customer-Dataset\" data-toc-modified-id=\"1.2.1-Data-Wrangling-about-the-Customer-Dataset-2.2.1\">1.2.1 Data Wrangling about the Customer Dataset</a></span><ul class=\"toc-item\"><li><ul class=\"toc-item\"><li><ul class=\"toc-item\"><li><span><a href=\"#Cleaning-Customer\" data-toc-modified-id=\"Cleaning-Customer-2.2.1.0.0.1\">Cleaning Customer</a></span></li><li><span><a href=\"#Cleaning-Age\" data-toc-modified-id=\"Cleaning-Age-2.2.1.0.0.2\">Cleaning Age</a></span></li><li><span><a href=\"#Cleaning-City\" data-toc-modified-id=\"Cleaning-City-2.2.1.0.0.3\">Cleaning City</a></span></li><li><span><a href=\"#Cleaning-Product\" data-toc-modified-id=\"Cleaning-Product-2.2.1.0.0.4\">Cleaning Product</a></span></li><li><span><a href=\"#Cleaning-Limit\" data-toc-modified-id=\"Cleaning-Limit-2.2.1.0.0.5\">Cleaning Limit</a></span></li><li><span><a href=\"#Cleaning-Company\" data-toc-modified-id=\"Cleaning-Company-2.2.1.0.0.6\">Cleaning Company</a></span></li><li><span><a href=\"#Cleaning-Segment\" data-toc-modified-id=\"Cleaning-Segment-2.2.1.0.0.7\">Cleaning Segment</a></span></li><li><span><a href=\"#Drop-column\" data-toc-modified-id=\"Drop-column-2.2.1.0.0.8\">Drop column</a></span></li></ul></li></ul></li></ul></li></ul></li><li><span><a href=\"#1.3-General-Info-about-the-Repayment-Dataset\" data-toc-modified-id=\"1.3-General-Info-about-the-Repayment-Dataset-2.3\">1.3 General Info about the Repayment Dataset</a></span><ul class=\"toc-item\"><li><span><a href=\"#1.3.1-Data-Wrangling-about-the-Repayment-Dataset\" data-toc-modified-id=\"1.3.1-Data-Wrangling-about-the-Repayment-Dataset-2.3.1\">1.3.1 Data Wrangling about the Repayment Dataset</a></span><ul class=\"toc-item\"><li><ul class=\"toc-item\"><li><ul class=\"toc-item\"><li><span><a href=\"#Cleaning-SL-No:\" data-toc-modified-id=\"Cleaning-SL-No:-2.3.1.0.0.1\">Cleaning SL No:</a></span></li><li><span><a href=\"#Cleaning-Customer\" data-toc-modified-id=\"Cleaning-Customer-2.3.1.0.0.2\">Cleaning Customer</a></span></li><li><span><a href=\"#Cleaning-Month\" data-toc-modified-id=\"Cleaning-Month-2.3.1.0.0.3\">Cleaning Month</a></span></li><li><span><a href=\"#Cleaning-Amount\" data-toc-modified-id=\"Cleaning-Amount-2.3.1.0.0.4\">Cleaning Amount</a></span></li><li><span><a href=\"#Dealing-with-the-Features-with-Missing-Values\" data-toc-modified-id=\"Dealing-with-the-Features-with-Missing-Values-2.3.1.0.0.5\">Dealing with the Features with Missing Values</a></span></li></ul></li></ul></li></ul></li></ul></li><li><span><a href=\"#1.4-General-Info-about-the-Spend-Dataset\" data-toc-modified-id=\"1.4-General-Info-about-the-Spend-Dataset-2.4\">1.4 General Info about the Spend Dataset</a></span><ul class=\"toc-item\"><li><span><a href=\"#1.4.1-Data-Wrangling-about-the-Spend-Dataset\" data-toc-modified-id=\"1.4.1-Data-Wrangling-about-the-Spend-Dataset-2.4.1\">1.4.1 Data Wrangling about the Spend Dataset</a></span><ul class=\"toc-item\"><li><ul class=\"toc-item\"><li><ul class=\"toc-item\"><li><span><a href=\"#Cleaning-SL-No:\" data-toc-modified-id=\"Cleaning-SL-No:-2.4.1.0.0.1\">Cleaning SL No:</a></span></li><li><span><a href=\"#Cleaning-Customer\" data-toc-modified-id=\"Cleaning-Customer-2.4.1.0.0.2\">Cleaning Customer</a></span></li><li><span><a href=\"#Cleaning-Month\" data-toc-modified-id=\"Cleaning-Month-2.4.1.0.0.3\">Cleaning Month</a></span></li><li><span><a href=\"#Cleaning-Type\" data-toc-modified-id=\"Cleaning-Type-2.4.1.0.0.4\">Cleaning Type</a></span></li><li><span><a href=\"#Cleaning-Amount\" data-toc-modified-id=\"Cleaning-Amount-2.4.1.0.0.5\">Cleaning Amount</a></span></li><li><span><a href=\"#Drop-columns\" data-toc-modified-id=\"Drop-columns-2.4.1.0.0.6\">Drop columns</a></span></li></ul></li></ul></li></ul></li></ul></li></ul></li><li><span><a href=\"#2.-Exploratory-Data-Analysis-(EDA)\" data-toc-modified-id=\"2.-Exploratory-Data-Analysis-(EDA)-3\">2. Exploratory Data Analysis (EDA)</a></span><ul class=\"toc-item\"><li><span><a href=\"#2.1-From--the-dataset-make-an-inference\" data-toc-modified-id=\"2.1-From--the-dataset-make-an-inference-3.1\">2.1 From  the dataset make an inference</a></span><ul class=\"toc-item\"><li><span><a href=\"#Estimate-Customer-Age-Mean\" data-toc-modified-id=\"Estimate-Customer-Age-Mean-3.1.1\">Estimate Customer Age Mean</a></span></li><li><span><a href=\"#Estimate-Spend-Amount-mean\" data-toc-modified-id=\"Estimate-Spend-Amount-mean-3.1.2\">Estimate Spend Amount mean</a></span></li><li><span><a href=\"#Estimate-Repayment-Amount-Mean\" data-toc-modified-id=\"Estimate-Repayment-Amount-Mean-3.1.3\">Estimate Repayment Amount Mean</a></span></li></ul></li><li><span><a href=\"#2.2-From-the-dataset-create-the-following-summaries:\" data-toc-modified-id=\"2.2-From-the-dataset-create-the-following-summaries:-3.2\">2.2 From the dataset create the following summaries:</a></span><ul class=\"toc-item\"><li><span><a href=\"#How-many-distinct-customers-exist?\" data-toc-modified-id=\"How-many-distinct-customers-exist?-3.2.1\">How many distinct customers exist?</a></span></li><li><span><a href=\"#How-many-distinct-categories-exist?\" data-toc-modified-id=\"How-many-distinct-categories-exist?-3.2.2\">How many distinct categories exist?</a></span><ul class=\"toc-item\"><li><span><a href=\"#Customers-from-Different-Spend-Type\" data-toc-modified-id=\"Customers-from-Different-Spend-Type-3.2.2.1\">Customers from Different Spend Type</a></span></li><li><span><a href=\"#Customers-From-Different-Cities\" data-toc-modified-id=\"Customers-From-Different-Cities-3.2.2.2\">Customers From Different Cities</a></span></li><li><span><a href=\"#Customers-From-Different-Products\" data-toc-modified-id=\"Customers-From-Different-Products-3.2.2.3\">Customers From Different Products</a></span></li><li><span><a href=\"#Customers-From-Different-Segments\" data-toc-modified-id=\"Customers-From-Different-Segments-3.2.2.4\">Customers From Different Segments</a></span></li></ul></li><li><span><a href=\"#What-is-the-average-monthly-spend-by-customers?\" data-toc-modified-id=\"What-is-the-average-monthly-spend-by-customers?-3.2.3\">What is the average monthly spend by customers?</a></span></li><li><span><a href=\"#What-is-the-average-monthly-repayment-by-customers?\" data-toc-modified-id=\"What-is-the-average-monthly-repayment-by-customers?-3.2.4\">What is the average monthly repayment by customers?</a></span></li><li><span><a href=\"#What-are-the-top-5-product-types?\" data-toc-modified-id=\"What-are-the-top-5-product-types?-3.2.5\">What are the top 5 product types?</a></span></li><li><span><a href=\"#Which-city-is-having-maximum-spend?\" data-toc-modified-id=\"Which-city-is-having-maximum-spend?-3.2.6\">Which city is having maximum spend?</a></span></li><li><span><a href=\"#Which-age-group-is-spending-more-money?\" data-toc-modified-id=\"Which-age-group-is-spending-more-money?-3.2.7\">Which age group is spending more money?</a></span></li></ul></li><li><span><a href=\"#2.3-Distribution-of-the-City-Wise-Spending-on-each-Product-by-Year\" data-toc-modified-id=\"2.3-Distribution-of-the-City-Wise-Spending-on-each-Product-by-Year-3.3\">2.3 Distribution of the City Wise Spending on each Product by Year</a></span></li><li><span><a href=\"#2.4-Distribution-of-the-Segment-Wise-Spend\" data-toc-modified-id=\"2.4-Distribution-of-the-Segment-Wise-Spend-3.4\">2.4 Distribution of the Segment Wise Spend</a></span></li><li><span><a href=\"#2.5-Distribution-of-the-Segment-Wise-Repayment\" data-toc-modified-id=\"2.5-Distribution-of-the-Segment-Wise-Repayment-3.5\">2.5 Distribution of the Segment Wise Repayment</a></span></li><li><span><a href=\"#2.6-Create-graphs-for\" data-toc-modified-id=\"2.6-Create-graphs-for-3.6\">2.6 Create graphs for</a></span><ul class=\"toc-item\"><li><span><a href=\"#Seasonal-comparison-of-total-spends,-city-wise\" data-toc-modified-id=\"Seasonal-comparison-of-total-spends,-city-wise-3.6.1\">Seasonal comparison of total spends, city wise</a></span></li><li><span><a href=\"#Comparison-of-seasonal-spend-for-each-product-(look-for-any-seasonality-that-exists-in-terms-of-spend)\" data-toc-modified-id=\"Comparison-of-seasonal-spend-for-each-product-(look-for-any-seasonality-that-exists-in-terms-of-spend)-3.6.2\">Comparison of seasonal spend for each product (look for any seasonality that exists in terms of spend)</a></span></li><li><span><a href=\"#Comparison-histogram-of-log10-spend-amount-and-repayment--amount\" data-toc-modified-id=\"Comparison-histogram-of-log10-spend-amount-and-repayment--amount-3.6.3\">Comparison histogram of log10 spend amount and repayment  amount</a></span></li></ul></li><li><span><a href=\"#2.7-Correlation-Between-Features\" data-toc-modified-id=\"2.7-Correlation-Between-Features-3.7\">2.7 Correlation Between Features</a></span></li></ul></li><li><span><a href=\"#3.-Feature-Selection\" data-toc-modified-id=\"3.-Feature-Selection-4\">3. Feature Selection</a></span><ul class=\"toc-item\"><li><ul class=\"toc-item\"><li><ul class=\"toc-item\"><li><ul class=\"toc-item\"><li><span><a href=\"#3.1-Feature-Selection-for-Object-Data-Type\" data-toc-modified-id=\"3.1-Feature-Selection-for-Object-Data-Type-4.0.0.0.1\">3.1 Feature Selection for Object Data Type</a></span></li><li><span><a href=\"#3.2-One-Hot-Encoding\" data-toc-modified-id=\"3.2-One-Hot-Encoding-4.0.0.0.2\">3.2 One Hot Encoding</a></span></li></ul></li></ul></li></ul></li></ul></li><li><span><a href=\"#4.-Model-Building\" data-toc-modified-id=\"4.-Model-Building-5\">4. Model Building</a></span><ul class=\"toc-item\"><li><ul class=\"toc-item\"><li><ul class=\"toc-item\"><li><span><a href=\"#4.1-Splitting-Data-into-Training-and-Test-Sets\" data-toc-modified-id=\"4.1-Splitting-Data-into-Training-and-Test-Sets-5.0.0.1\">4.1 Splitting Data into Training and Test Sets</a></span></li><li><span><a href=\"#4.2-Feature-Scaling\" data-toc-modified-id=\"4.2-Feature-Scaling-5.0.0.2\">4.2 Feature Scaling</a></span></li><li><span><a href=\"#4.3-Model-Fitting\" data-toc-modified-id=\"4.3-Model-Fitting-5.0.0.3\">4.3 Model Fitting</a></span><ul class=\"toc-item\"><li><span><a href=\"#4.3.1-Linear-Regression\" data-toc-modified-id=\"4.3.1-Linear-Regression-5.0.0.3.1\">4.3.1 Linear Regression</a></span></li><li><span><a href=\"#4.3.2-Random-Forest\" data-toc-modified-id=\"4.3.2-Random-Forest-5.0.0.3.2\">4.3.2 Random Forest</a></span><ul class=\"toc-item\"><li><span><a href=\"#Tuning-the-Model\" data-toc-modified-id=\"Tuning-the-Model-5.0.0.3.2.1\">Tuning the Model</a></span></li></ul></li><li><span><a href=\"#Optimized-model\" data-toc-modified-id=\"Optimized-model-5.0.0.3.3\">Optimized model</a></span></li></ul></li></ul></li></ul></li></ul></li><li><span><a href=\"#6.-Conclusion\" data-toc-modified-id=\"6.-Conclusion-6\">6. Conclusion</a></span></li></ul></div>"
   ]
  },
  {
   "cell_type": "markdown",
   "metadata": {},
   "source": [
    "### About the analytics in credit card industry:\n",
    "Analytics has influenced every industry based on a variety of  technology platforms which collect information so, what certainly customers want is known  by the service providers. The Credit Card industry is also one of these industries. There is a massive data available that can be useful in infinite ways which is enabled by credit card payment processing,\n",
    "\n",
    "\n",
    "\n",
    "### Recognition of the customer behavior:\n",
    "The data from a credit card processor shows the consumer types and their business spending behaviors. Therefore, companies can develop the marketing campaigns that directly addresses consumers’ behavior. In return, this helps to make better sales and the revenue  undoubtedly grows.\n",
    "greater sales.\n",
    "\n",
    "### Problem Statement:\n",
    "In order to effectively produce quality decisions in the modern credit card industry, knowledge must be gained through effective data analysis and modeling. Through the use of dynamic data driven decision-making tools and procedures, information can be gathered to successfully evaluate all aspects of credit card operations. PSPD Bank has banking operations in more than 50 countries across the globe. Mr. Jim Watson, CEO, wants to evaluate areas of bankruptcy, fraud, and collections, respond to customer requests for help with proactive offers and service.\n",
    "\n",
    "In this project, I will focus on the effect of the credit card limit on the credit card payments as well as customer spending.    Predicting the patterns of spending and payment behaviors of customers is important for banks to provide more appealing offers to the customers, and to respond to customer requests more effectively. Although there are many factors that might be accounted for predicting customers’ spending and payment behaviors, in this project, I will focus on the effect of credit card spending limit. Understanding the role of credit card spending limit will give a valuable input to PSPD bank to see how different amounts of limit affect how much customer spends and how much they pay their credit card debts.  Furthermore, illustrating the relationship between credit card spending limit and the payment and spending behaviors of customers will provide evidences for banks to consider in determining the credit card limits for customers from different backgrounds and different spending and payment behaviors. \n",
    "\n",
    "In analyzing this relationship, I will first look at bilateral correlation between credit card spending limit and credit card payment as well as between the spending limit and the amount of spending with the credit card. After doing the correlational analyses, I will develop machine-learning models. Machine-learning models will help PSD bank to correctly predict how credit card spending limit affects the customer spending and payment behaviors. The analyses will reveal important recommendations that   PSPD bank and its CEO might want to consider.\n",
    "\n",
    "\n",
    "### About the Dataset:\n",
    "The data for the analyses were acquired from Kaggle.com - Credit Card Exploratory Data Analysis. The data contain three separate files which are ;\n",
    "\n",
    "* Customer Acquisition: At the time of card issuing, company maintains the details of customers. It has 100 observations and 8 variables including No, Customer, Age,City , Product, Li mit, Company, Segment.\n",
    "\n",
    "* Spend (Transaction data): Credit card spending for each customer. It has 1500 observations and 5 variables  including Sl No, Customer, Month, Type, Amount.\n",
    "\n",
    "* Repayment: Credit card Payment done by customer. It has 1523 observations and 3 variables including Sl No, Customer, Month, Amount.\n",
    " \n",
    "<div class=\"span5 alert alert-success\">\n",
    " \n",
    "The dataset used for this project can be acquired using the following  [link](https://www.kaggle.com/darpan25bajaj/credit-card-exploratory-data-analysis#Repayment.csv):  [Data Resources](https://www.kaggle.com/darpan25bajaj/credit-card-exploratory-data-analysis)</div>"
   ]
  },
  {
   "cell_type": "markdown",
   "metadata": {},
   "source": [
    "# 2. Exploratory Data Analysis (EDA)"
   ]
  },
  {
   "cell_type": "markdown",
   "metadata": {},
   "source": [
    "This section focuses on exploratory data analysis (EDA) which allows us to understand emerging themes before moving onto deeper and more complex data analysis."
   ]
  },
  {
   "cell_type": "code",
   "execution_count": 5,
   "metadata": {},
   "outputs": [],
   "source": [
    "import pandas as pd"
   ]
  },
  {
   "cell_type": "code",
   "execution_count": 6,
   "metadata": {},
   "outputs": [
    {
     "data": {
      "text/html": [
       "<div>\n",
       "<style scoped>\n",
       "    .dataframe tbody tr th:only-of-type {\n",
       "        vertical-align: middle;\n",
       "    }\n",
       "\n",
       "    .dataframe tbody tr th {\n",
       "        vertical-align: top;\n",
       "    }\n",
       "\n",
       "    .dataframe thead th {\n",
       "        text-align: right;\n",
       "    }\n",
       "</style>\n",
       "<table border=\"1\" class=\"dataframe\">\n",
       "  <thead>\n",
       "    <tr style=\"text-align: right;\">\n",
       "      <th></th>\n",
       "      <th>No</th>\n",
       "      <th>Customer</th>\n",
       "      <th>Age</th>\n",
       "      <th>City</th>\n",
       "      <th>Product</th>\n",
       "      <th>Limit</th>\n",
       "      <th>Company</th>\n",
       "      <th>Segment</th>\n",
       "    </tr>\n",
       "  </thead>\n",
       "  <tbody>\n",
       "    <tr>\n",
       "      <td>0</td>\n",
       "      <td>1</td>\n",
       "      <td>A1</td>\n",
       "      <td>76</td>\n",
       "      <td>BANGALORE</td>\n",
       "      <td>Gold</td>\n",
       "      <td>500000.0</td>\n",
       "      <td>C1</td>\n",
       "      <td>Self Employed</td>\n",
       "    </tr>\n",
       "    <tr>\n",
       "      <td>1</td>\n",
       "      <td>2</td>\n",
       "      <td>A2</td>\n",
       "      <td>71</td>\n",
       "      <td>CALCUTTA</td>\n",
       "      <td>Silver</td>\n",
       "      <td>100000.0</td>\n",
       "      <td>C2</td>\n",
       "      <td>Salaried_MNC</td>\n",
       "    </tr>\n",
       "    <tr>\n",
       "      <td>2</td>\n",
       "      <td>3</td>\n",
       "      <td>A3</td>\n",
       "      <td>34</td>\n",
       "      <td>COCHIN</td>\n",
       "      <td>Platimum</td>\n",
       "      <td>10000.0</td>\n",
       "      <td>C3</td>\n",
       "      <td>Salaried_Pvt</td>\n",
       "    </tr>\n",
       "  </tbody>\n",
       "</table>\n",
       "</div>"
      ],
      "text/plain": [
       "   No Customer  Age       City   Product     Limit Company        Segment\n",
       "0   1       A1   76  BANGALORE      Gold  500000.0      C1  Self Employed\n",
       "1   2       A2   71   CALCUTTA    Silver  100000.0      C2   Salaried_MNC\n",
       "2   3       A3   34     COCHIN  Platimum   10000.0      C3   Salaried_Pvt"
      ]
     },
     "execution_count": 6,
     "metadata": {},
     "output_type": "execute_result"
    }
   ],
   "source": [
    "customer = pd.read_csv('data/Customer Acqusition.csv')\n",
    "customer.head(3)"
   ]
  },
  {
   "cell_type": "code",
   "execution_count": 8,
   "metadata": {
    "scrolled": true
   },
   "outputs": [
    {
     "data": {
      "text/html": [
       "<div>\n",
       "<style scoped>\n",
       "    .dataframe tbody tr th:only-of-type {\n",
       "        vertical-align: middle;\n",
       "    }\n",
       "\n",
       "    .dataframe tbody tr th {\n",
       "        vertical-align: top;\n",
       "    }\n",
       "\n",
       "    .dataframe thead th {\n",
       "        text-align: right;\n",
       "    }\n",
       "</style>\n",
       "<table border=\"1\" class=\"dataframe\">\n",
       "  <thead>\n",
       "    <tr style=\"text-align: right;\">\n",
       "      <th></th>\n",
       "      <th>SL No:</th>\n",
       "      <th>Customer</th>\n",
       "      <th>Month</th>\n",
       "      <th>Amount</th>\n",
       "      <th>Unnamed: 4</th>\n",
       "    </tr>\n",
       "  </thead>\n",
       "  <tbody>\n",
       "    <tr>\n",
       "      <td>0</td>\n",
       "      <td>NaN</td>\n",
       "      <td>A1</td>\n",
       "      <td>12-Jan-04</td>\n",
       "      <td>495414.75</td>\n",
       "      <td>NaN</td>\n",
       "    </tr>\n",
       "    <tr>\n",
       "      <td>1</td>\n",
       "      <td>2.0</td>\n",
       "      <td>A1</td>\n",
       "      <td>3-Jan-04</td>\n",
       "      <td>245899.02</td>\n",
       "      <td>NaN</td>\n",
       "    </tr>\n",
       "    <tr>\n",
       "      <td>2</td>\n",
       "      <td>3.0</td>\n",
       "      <td>A1</td>\n",
       "      <td>15-Jan-04</td>\n",
       "      <td>259490.06</td>\n",
       "      <td>NaN</td>\n",
       "    </tr>\n",
       "  </tbody>\n",
       "</table>\n",
       "</div>"
      ],
      "text/plain": [
       "   SL No: Customer      Month     Amount  Unnamed: 4\n",
       "0     NaN       A1  12-Jan-04  495414.75         NaN\n",
       "1     2.0       A1   3-Jan-04  245899.02         NaN\n",
       "2     3.0       A1  15-Jan-04  259490.06         NaN"
      ]
     },
     "execution_count": 8,
     "metadata": {},
     "output_type": "execute_result"
    }
   ],
   "source": [
    "repayment = pd.read_csv('data/Repayment.csv')\n",
    "repayment.head(3)"
   ]
  },
  {
   "cell_type": "code",
   "execution_count": 9,
   "metadata": {},
   "outputs": [
    {
     "data": {
      "text/html": [
       "<div>\n",
       "<style scoped>\n",
       "    .dataframe tbody tr th:only-of-type {\n",
       "        vertical-align: middle;\n",
       "    }\n",
       "\n",
       "    .dataframe tbody tr th {\n",
       "        vertical-align: top;\n",
       "    }\n",
       "\n",
       "    .dataframe thead th {\n",
       "        text-align: right;\n",
       "    }\n",
       "</style>\n",
       "<table border=\"1\" class=\"dataframe\">\n",
       "  <thead>\n",
       "    <tr style=\"text-align: right;\">\n",
       "      <th></th>\n",
       "      <th>Sl No:</th>\n",
       "      <th>Customer</th>\n",
       "      <th>Month</th>\n",
       "      <th>Type</th>\n",
       "      <th>Amount</th>\n",
       "    </tr>\n",
       "  </thead>\n",
       "  <tbody>\n",
       "    <tr>\n",
       "      <td>0</td>\n",
       "      <td>1</td>\n",
       "      <td>A1</td>\n",
       "      <td>12-Jan-04</td>\n",
       "      <td>JEWELLERY</td>\n",
       "      <td>485470.80</td>\n",
       "    </tr>\n",
       "    <tr>\n",
       "      <td>1</td>\n",
       "      <td>2</td>\n",
       "      <td>A1</td>\n",
       "      <td>3-Jan-04</td>\n",
       "      <td>PETRO</td>\n",
       "      <td>410556.13</td>\n",
       "    </tr>\n",
       "    <tr>\n",
       "      <td>2</td>\n",
       "      <td>3</td>\n",
       "      <td>A1</td>\n",
       "      <td>15-Jan-04</td>\n",
       "      <td>CLOTHES</td>\n",
       "      <td>23740.46</td>\n",
       "    </tr>\n",
       "  </tbody>\n",
       "</table>\n",
       "</div>"
      ],
      "text/plain": [
       "   Sl No: Customer      Month       Type     Amount\n",
       "0       1       A1  12-Jan-04  JEWELLERY  485470.80\n",
       "1       2       A1   3-Jan-04      PETRO  410556.13\n",
       "2       3       A1  15-Jan-04    CLOTHES   23740.46"
      ]
     },
     "execution_count": 9,
     "metadata": {},
     "output_type": "execute_result"
    }
   ],
   "source": [
    "spend = pd.read_csv('data/spend.csv')\n",
    "spend.head(3)"
   ]
  },
  {
   "cell_type": "code",
   "execution_count": 10,
   "metadata": {},
   "outputs": [
    {
     "name": "stdout",
     "output_type": "stream",
     "text": [
      "(100, 8)\n",
      "(1523, 5)\n",
      "(1500, 5)\n"
     ]
    }
   ],
   "source": [
    "print(customer.shape)\n",
    "print(repayment.shape)\n",
    "print(spend.shape)"
   ]
  },
  {
   "cell_type": "markdown",
   "metadata": {},
   "source": [
    "## 2.1 From  the dataset make an inference"
   ]
  },
  {
   "cell_type": "markdown",
   "metadata": {},
   "source": [
    "### Estimate Customer Age Mean\n",
    "In case age is less than 18, replace it with mean of age values and estimate  customer age mean."
   ]
  },
  {
   "cell_type": "code",
   "execution_count": 11,
   "metadata": {},
   "outputs": [
    {
     "data": {
      "text/plain": [
       "13    16\n",
       "40    13\n",
       "62    15\n",
       "67    12\n",
       "69    16\n",
       "89    16\n",
       "Name: Age, dtype: int64"
      ]
     },
     "execution_count": 11,
     "metadata": {},
     "output_type": "execute_result"
    }
   ],
   "source": [
    "customer.loc[(customer.Age<18),'Age']"
   ]
  },
  {
   "cell_type": "code",
   "execution_count": 12,
   "metadata": {},
   "outputs": [],
   "source": [
    "#All the customers who have age less than 18 have been replaced \n",
    "#by mean of the age column.\n",
    "customer.loc[(customer.Age<18),'Age']=customer.Age.mean()"
   ]
  },
  {
   "cell_type": "code",
   "execution_count": 13,
   "metadata": {},
   "outputs": [
    {
     "name": "stdout",
     "output_type": "stream",
     "text": [
      "Customers age mean: 48.4\n"
     ]
    }
   ],
   "source": [
    "print('Customers age mean: {}'.format(round(customer.Age.mean(),2)))"
   ]
  },
  {
   "cell_type": "markdown",
   "metadata": {},
   "source": [
    "### Estimate Spend Amount mean\n",
    "\n",
    "In case spend amount is more than the limit, replace it with the customer’s limit. (customer’s limit provided in acquisition table is the per transaction limit on his/her card) and estimate spend amount mean."
   ]
  },
  {
   "cell_type": "code",
   "execution_count": 14,
   "metadata": {},
   "outputs": [
    {
     "data": {
      "text/html": [
       "<div>\n",
       "<style scoped>\n",
       "    .dataframe tbody tr th:only-of-type {\n",
       "        vertical-align: middle;\n",
       "    }\n",
       "\n",
       "    .dataframe tbody tr th {\n",
       "        vertical-align: top;\n",
       "    }\n",
       "\n",
       "    .dataframe thead th {\n",
       "        text-align: right;\n",
       "    }\n",
       "</style>\n",
       "<table border=\"1\" class=\"dataframe\">\n",
       "  <thead>\n",
       "    <tr style=\"text-align: right;\">\n",
       "      <th></th>\n",
       "      <th>No</th>\n",
       "      <th>Customer</th>\n",
       "      <th>Age</th>\n",
       "      <th>City</th>\n",
       "      <th>Product</th>\n",
       "      <th>Limit</th>\n",
       "      <th>Company</th>\n",
       "      <th>Segment</th>\n",
       "    </tr>\n",
       "  </thead>\n",
       "  <tbody>\n",
       "    <tr>\n",
       "      <td>0</td>\n",
       "      <td>1</td>\n",
       "      <td>A1</td>\n",
       "      <td>76.0</td>\n",
       "      <td>BANGALORE</td>\n",
       "      <td>Gold</td>\n",
       "      <td>500000.0</td>\n",
       "      <td>C1</td>\n",
       "      <td>Self Employed</td>\n",
       "    </tr>\n",
       "  </tbody>\n",
       "</table>\n",
       "</div>"
      ],
      "text/plain": [
       "   No Customer   Age       City Product     Limit Company        Segment\n",
       "0   1       A1  76.0  BANGALORE    Gold  500000.0      C1  Self Employed"
      ]
     },
     "execution_count": 14,
     "metadata": {},
     "output_type": "execute_result"
    }
   ],
   "source": [
    "customer.head(1)"
   ]
  },
  {
   "cell_type": "code",
   "execution_count": 15,
   "metadata": {},
   "outputs": [
    {
     "data": {
      "text/html": [
       "<div>\n",
       "<style scoped>\n",
       "    .dataframe tbody tr th:only-of-type {\n",
       "        vertical-align: middle;\n",
       "    }\n",
       "\n",
       "    .dataframe tbody tr th {\n",
       "        vertical-align: top;\n",
       "    }\n",
       "\n",
       "    .dataframe thead th {\n",
       "        text-align: right;\n",
       "    }\n",
       "</style>\n",
       "<table border=\"1\" class=\"dataframe\">\n",
       "  <thead>\n",
       "    <tr style=\"text-align: right;\">\n",
       "      <th></th>\n",
       "      <th>Sl No:</th>\n",
       "      <th>Customer</th>\n",
       "      <th>Month</th>\n",
       "      <th>Type</th>\n",
       "      <th>Amount</th>\n",
       "    </tr>\n",
       "  </thead>\n",
       "  <tbody>\n",
       "    <tr>\n",
       "      <td>0</td>\n",
       "      <td>1</td>\n",
       "      <td>A1</td>\n",
       "      <td>12-Jan-04</td>\n",
       "      <td>JEWELLERY</td>\n",
       "      <td>485470.8</td>\n",
       "    </tr>\n",
       "  </tbody>\n",
       "</table>\n",
       "</div>"
      ],
      "text/plain": [
       "   Sl No: Customer      Month       Type    Amount\n",
       "0       1       A1  12-Jan-04  JEWELLERY  485470.8"
      ]
     },
     "execution_count": 15,
     "metadata": {},
     "output_type": "execute_result"
    }
   ],
   "source": [
    "spend.head(1)"
   ]
  },
  {
   "cell_type": "code",
   "execution_count": 16,
   "metadata": {
    "scrolled": true
   },
   "outputs": [
    {
     "data": {
      "text/html": [
       "<div>\n",
       "<style scoped>\n",
       "    .dataframe tbody tr th:only-of-type {\n",
       "        vertical-align: middle;\n",
       "    }\n",
       "\n",
       "    .dataframe tbody tr th {\n",
       "        vertical-align: top;\n",
       "    }\n",
       "\n",
       "    .dataframe thead th {\n",
       "        text-align: right;\n",
       "    }\n",
       "</style>\n",
       "<table border=\"1\" class=\"dataframe\">\n",
       "  <thead>\n",
       "    <tr style=\"text-align: right;\">\n",
       "      <th></th>\n",
       "      <th>No</th>\n",
       "      <th>Customer</th>\n",
       "      <th>Age</th>\n",
       "      <th>City</th>\n",
       "      <th>Product</th>\n",
       "      <th>Limit</th>\n",
       "      <th>Company</th>\n",
       "      <th>Segment</th>\n",
       "      <th>Sl No:</th>\n",
       "      <th>Month</th>\n",
       "      <th>Type</th>\n",
       "      <th>Amount</th>\n",
       "    </tr>\n",
       "  </thead>\n",
       "  <tbody>\n",
       "    <tr>\n",
       "      <td>0</td>\n",
       "      <td>1</td>\n",
       "      <td>A1</td>\n",
       "      <td>76.0</td>\n",
       "      <td>BANGALORE</td>\n",
       "      <td>Gold</td>\n",
       "      <td>500000.0</td>\n",
       "      <td>C1</td>\n",
       "      <td>Self Employed</td>\n",
       "      <td>1</td>\n",
       "      <td>12-Jan-04</td>\n",
       "      <td>JEWELLERY</td>\n",
       "      <td>485470.80</td>\n",
       "    </tr>\n",
       "    <tr>\n",
       "      <td>1</td>\n",
       "      <td>1</td>\n",
       "      <td>A1</td>\n",
       "      <td>76.0</td>\n",
       "      <td>BANGALORE</td>\n",
       "      <td>Gold</td>\n",
       "      <td>500000.0</td>\n",
       "      <td>C1</td>\n",
       "      <td>Self Employed</td>\n",
       "      <td>2</td>\n",
       "      <td>3-Jan-04</td>\n",
       "      <td>PETRO</td>\n",
       "      <td>410556.13</td>\n",
       "    </tr>\n",
       "    <tr>\n",
       "      <td>2</td>\n",
       "      <td>1</td>\n",
       "      <td>A1</td>\n",
       "      <td>76.0</td>\n",
       "      <td>BANGALORE</td>\n",
       "      <td>Gold</td>\n",
       "      <td>500000.0</td>\n",
       "      <td>C1</td>\n",
       "      <td>Self Employed</td>\n",
       "      <td>3</td>\n",
       "      <td>15-Jan-04</td>\n",
       "      <td>CLOTHES</td>\n",
       "      <td>23740.46</td>\n",
       "    </tr>\n",
       "  </tbody>\n",
       "</table>\n",
       "</div>"
      ],
      "text/plain": [
       "   No Customer   Age       City Product     Limit Company        Segment  \\\n",
       "0   1       A1  76.0  BANGALORE    Gold  500000.0      C1  Self Employed   \n",
       "1   1       A1  76.0  BANGALORE    Gold  500000.0      C1  Self Employed   \n",
       "2   1       A1  76.0  BANGALORE    Gold  500000.0      C1  Self Employed   \n",
       "\n",
       "   Sl No:      Month       Type     Amount  \n",
       "0       1  12-Jan-04  JEWELLERY  485470.80  \n",
       "1       2   3-Jan-04      PETRO  410556.13  \n",
       "2       3  15-Jan-04    CLOTHES   23740.46  "
      ]
     },
     "execution_count": 16,
     "metadata": {},
     "output_type": "execute_result"
    }
   ],
   "source": [
    "#merging customer and spend table on the basis of \"Customer\" column\n",
    "customer_spend=pd.merge(customer,spend,on=['Customer'],how='inner',suffixes=('_customer','_spend'))\n",
    "customer_spend.head(3)"
   ]
  },
  {
   "cell_type": "code",
   "execution_count": 17,
   "metadata": {},
   "outputs": [
    {
     "data": {
      "text/html": [
       "<div>\n",
       "<style scoped>\n",
       "    .dataframe tbody tr th:only-of-type {\n",
       "        vertical-align: middle;\n",
       "    }\n",
       "\n",
       "    .dataframe tbody tr th {\n",
       "        vertical-align: top;\n",
       "    }\n",
       "\n",
       "    .dataframe thead th {\n",
       "        text-align: right;\n",
       "    }\n",
       "</style>\n",
       "<table border=\"1\" class=\"dataframe\">\n",
       "  <thead>\n",
       "    <tr style=\"text-align: right;\">\n",
       "      <th></th>\n",
       "      <th>No</th>\n",
       "      <th>Customer</th>\n",
       "      <th>Age</th>\n",
       "      <th>City</th>\n",
       "      <th>Product</th>\n",
       "      <th>Limit</th>\n",
       "      <th>Company</th>\n",
       "      <th>Segment</th>\n",
       "      <th>Sl No:</th>\n",
       "      <th>Month</th>\n",
       "      <th>Type</th>\n",
       "      <th>Amount</th>\n",
       "    </tr>\n",
       "  </thead>\n",
       "  <tbody>\n",
       "    <tr>\n",
       "      <td>18</td>\n",
       "      <td>2</td>\n",
       "      <td>A2</td>\n",
       "      <td>71.0</td>\n",
       "      <td>CALCUTTA</td>\n",
       "      <td>Silver</td>\n",
       "      <td>100000.0</td>\n",
       "      <td>C2</td>\n",
       "      <td>Salaried_MNC</td>\n",
       "      <td>104</td>\n",
       "      <td>3-Jan-04</td>\n",
       "      <td>RENTAL</td>\n",
       "      <td>199554.72</td>\n",
       "    </tr>\n",
       "    <tr>\n",
       "      <td>19</td>\n",
       "      <td>2</td>\n",
       "      <td>A2</td>\n",
       "      <td>71.0</td>\n",
       "      <td>CALCUTTA</td>\n",
       "      <td>Silver</td>\n",
       "      <td>100000.0</td>\n",
       "      <td>C2</td>\n",
       "      <td>Salaried_MNC</td>\n",
       "      <td>118</td>\n",
       "      <td>28-Feb-05</td>\n",
       "      <td>TRAIN TICKET</td>\n",
       "      <td>376887.49</td>\n",
       "    </tr>\n",
       "    <tr>\n",
       "      <td>20</td>\n",
       "      <td>2</td>\n",
       "      <td>A2</td>\n",
       "      <td>71.0</td>\n",
       "      <td>CALCUTTA</td>\n",
       "      <td>Silver</td>\n",
       "      <td>100000.0</td>\n",
       "      <td>C2</td>\n",
       "      <td>Salaried_MNC</td>\n",
       "      <td>132</td>\n",
       "      <td>6-Apr-04</td>\n",
       "      <td>BUS TICKET</td>\n",
       "      <td>439648.53</td>\n",
       "    </tr>\n",
       "    <tr>\n",
       "      <td>21</td>\n",
       "      <td>2</td>\n",
       "      <td>A2</td>\n",
       "      <td>71.0</td>\n",
       "      <td>CALCUTTA</td>\n",
       "      <td>Silver</td>\n",
       "      <td>100000.0</td>\n",
       "      <td>C2</td>\n",
       "      <td>Salaried_MNC</td>\n",
       "      <td>146</td>\n",
       "      <td>23-Nov-04</td>\n",
       "      <td>PETRO</td>\n",
       "      <td>384078.73</td>\n",
       "    </tr>\n",
       "    <tr>\n",
       "      <td>22</td>\n",
       "      <td>2</td>\n",
       "      <td>A2</td>\n",
       "      <td>71.0</td>\n",
       "      <td>CALCUTTA</td>\n",
       "      <td>Silver</td>\n",
       "      <td>100000.0</td>\n",
       "      <td>C2</td>\n",
       "      <td>Salaried_MNC</td>\n",
       "      <td>160</td>\n",
       "      <td>3-Sep-05</td>\n",
       "      <td>JEWELLERY</td>\n",
       "      <td>117089.16</td>\n",
       "    </tr>\n",
       "  </tbody>\n",
       "</table>\n",
       "</div>"
      ],
      "text/plain": [
       "    No Customer   Age      City Product     Limit Company       Segment  \\\n",
       "18   2       A2  71.0  CALCUTTA  Silver  100000.0      C2  Salaried_MNC   \n",
       "19   2       A2  71.0  CALCUTTA  Silver  100000.0      C2  Salaried_MNC   \n",
       "20   2       A2  71.0  CALCUTTA  Silver  100000.0      C2  Salaried_MNC   \n",
       "21   2       A2  71.0  CALCUTTA  Silver  100000.0      C2  Salaried_MNC   \n",
       "22   2       A2  71.0  CALCUTTA  Silver  100000.0      C2  Salaried_MNC   \n",
       "\n",
       "    Sl No:      Month          Type     Amount  \n",
       "18     104   3-Jan-04        RENTAL  199554.72  \n",
       "19     118  28-Feb-05  TRAIN TICKET  376887.49  \n",
       "20     132   6-Apr-04    BUS TICKET  439648.53  \n",
       "21     146  23-Nov-04         PETRO  384078.73  \n",
       "22     160   3-Sep-05     JEWELLERY  117089.16  "
      ]
     },
     "execution_count": 17,
     "metadata": {},
     "output_type": "execute_result"
    }
   ],
   "source": [
    "#the customers whose spend amount is more than the limit.\n",
    "customer_spend.loc[customer_spend.Amount>customer_spend.Limit].head()"
   ]
  },
  {
   "cell_type": "code",
   "execution_count": 18,
   "metadata": {},
   "outputs": [],
   "source": [
    "#if customer's spend amount is more than the limit,replacing with the customer’s limit\n",
    "customer_spend.loc[(customer_spend.Amount>customer_spend.Limit),'Amount']=customer_spend.Limit\n"
   ]
  },
  {
   "cell_type": "code",
   "execution_count": 19,
   "metadata": {},
   "outputs": [
    {
     "name": "stdout",
     "output_type": "stream",
     "text": [
      "Spend amount mean : 159944.32\n"
     ]
    }
   ],
   "source": [
    "print('Spend amount mean : {}'.format(round(customer_spend.Amount.mean(),2)))"
   ]
  },
  {
   "cell_type": "markdown",
   "metadata": {},
   "source": [
    "### Estimate Repayment Amount Mean\n",
    "\n",
    "Incase the repayment amount is more than the limit, replace the repayment with the limit and estimate repayment amount mean."
   ]
  },
  {
   "cell_type": "code",
   "execution_count": 20,
   "metadata": {},
   "outputs": [
    {
     "data": {
      "text/html": [
       "<div>\n",
       "<style scoped>\n",
       "    .dataframe tbody tr th:only-of-type {\n",
       "        vertical-align: middle;\n",
       "    }\n",
       "\n",
       "    .dataframe tbody tr th {\n",
       "        vertical-align: top;\n",
       "    }\n",
       "\n",
       "    .dataframe thead th {\n",
       "        text-align: right;\n",
       "    }\n",
       "</style>\n",
       "<table border=\"1\" class=\"dataframe\">\n",
       "  <thead>\n",
       "    <tr style=\"text-align: right;\">\n",
       "      <th></th>\n",
       "      <th>No</th>\n",
       "      <th>Customer</th>\n",
       "      <th>Age</th>\n",
       "      <th>City</th>\n",
       "      <th>Product</th>\n",
       "      <th>Limit</th>\n",
       "      <th>Company</th>\n",
       "      <th>Segment</th>\n",
       "    </tr>\n",
       "  </thead>\n",
       "  <tbody>\n",
       "    <tr>\n",
       "      <td>0</td>\n",
       "      <td>1</td>\n",
       "      <td>A1</td>\n",
       "      <td>76.0</td>\n",
       "      <td>BANGALORE</td>\n",
       "      <td>Gold</td>\n",
       "      <td>500000.0</td>\n",
       "      <td>C1</td>\n",
       "      <td>Self Employed</td>\n",
       "    </tr>\n",
       "  </tbody>\n",
       "</table>\n",
       "</div>"
      ],
      "text/plain": [
       "   No Customer   Age       City Product     Limit Company        Segment\n",
       "0   1       A1  76.0  BANGALORE    Gold  500000.0      C1  Self Employed"
      ]
     },
     "execution_count": 20,
     "metadata": {},
     "output_type": "execute_result"
    }
   ],
   "source": [
    "customer.head(1)"
   ]
  },
  {
   "cell_type": "code",
   "execution_count": 21,
   "metadata": {},
   "outputs": [
    {
     "data": {
      "text/html": [
       "<div>\n",
       "<style scoped>\n",
       "    .dataframe tbody tr th:only-of-type {\n",
       "        vertical-align: middle;\n",
       "    }\n",
       "\n",
       "    .dataframe tbody tr th {\n",
       "        vertical-align: top;\n",
       "    }\n",
       "\n",
       "    .dataframe thead th {\n",
       "        text-align: right;\n",
       "    }\n",
       "</style>\n",
       "<table border=\"1\" class=\"dataframe\">\n",
       "  <thead>\n",
       "    <tr style=\"text-align: right;\">\n",
       "      <th></th>\n",
       "      <th>SL No:</th>\n",
       "      <th>Customer</th>\n",
       "      <th>Month</th>\n",
       "      <th>Amount</th>\n",
       "      <th>Unnamed: 4</th>\n",
       "    </tr>\n",
       "  </thead>\n",
       "  <tbody>\n",
       "    <tr>\n",
       "      <td>0</td>\n",
       "      <td>NaN</td>\n",
       "      <td>A1</td>\n",
       "      <td>12-Jan-04</td>\n",
       "      <td>495414.75</td>\n",
       "      <td>NaN</td>\n",
       "    </tr>\n",
       "  </tbody>\n",
       "</table>\n",
       "</div>"
      ],
      "text/plain": [
       "   SL No: Customer      Month     Amount  Unnamed: 4\n",
       "0     NaN       A1  12-Jan-04  495414.75         NaN"
      ]
     },
     "execution_count": 21,
     "metadata": {},
     "output_type": "execute_result"
    }
   ],
   "source": [
    "repayment.head(1)"
   ]
  },
  {
   "cell_type": "code",
   "execution_count": 22,
   "metadata": {},
   "outputs": [
    {
     "data": {
      "text/html": [
       "<div>\n",
       "<style scoped>\n",
       "    .dataframe tbody tr th:only-of-type {\n",
       "        vertical-align: middle;\n",
       "    }\n",
       "\n",
       "    .dataframe tbody tr th {\n",
       "        vertical-align: top;\n",
       "    }\n",
       "\n",
       "    .dataframe thead th {\n",
       "        text-align: right;\n",
       "    }\n",
       "</style>\n",
       "<table border=\"1\" class=\"dataframe\">\n",
       "  <thead>\n",
       "    <tr style=\"text-align: right;\">\n",
       "      <th></th>\n",
       "      <th>No</th>\n",
       "      <th>Customer</th>\n",
       "      <th>Age</th>\n",
       "      <th>City</th>\n",
       "      <th>Product</th>\n",
       "      <th>Limit</th>\n",
       "      <th>Company</th>\n",
       "      <th>Segment</th>\n",
       "      <th>SL No:</th>\n",
       "      <th>Month</th>\n",
       "      <th>Amount</th>\n",
       "      <th>Unnamed: 4</th>\n",
       "    </tr>\n",
       "  </thead>\n",
       "  <tbody>\n",
       "    <tr>\n",
       "      <td>0</td>\n",
       "      <td>1</td>\n",
       "      <td>A1</td>\n",
       "      <td>76.0</td>\n",
       "      <td>BANGALORE</td>\n",
       "      <td>Gold</td>\n",
       "      <td>500000.0</td>\n",
       "      <td>C1</td>\n",
       "      <td>Self Employed</td>\n",
       "      <td>NaN</td>\n",
       "      <td>12-Jan-04</td>\n",
       "      <td>495414.75</td>\n",
       "      <td>NaN</td>\n",
       "    </tr>\n",
       "    <tr>\n",
       "      <td>1</td>\n",
       "      <td>1</td>\n",
       "      <td>A1</td>\n",
       "      <td>76.0</td>\n",
       "      <td>BANGALORE</td>\n",
       "      <td>Gold</td>\n",
       "      <td>500000.0</td>\n",
       "      <td>C1</td>\n",
       "      <td>Self Employed</td>\n",
       "      <td>2.0</td>\n",
       "      <td>3-Jan-04</td>\n",
       "      <td>245899.02</td>\n",
       "      <td>NaN</td>\n",
       "    </tr>\n",
       "    <tr>\n",
       "      <td>2</td>\n",
       "      <td>1</td>\n",
       "      <td>A1</td>\n",
       "      <td>76.0</td>\n",
       "      <td>BANGALORE</td>\n",
       "      <td>Gold</td>\n",
       "      <td>500000.0</td>\n",
       "      <td>C1</td>\n",
       "      <td>Self Employed</td>\n",
       "      <td>3.0</td>\n",
       "      <td>15-Jan-04</td>\n",
       "      <td>259490.06</td>\n",
       "      <td>NaN</td>\n",
       "    </tr>\n",
       "  </tbody>\n",
       "</table>\n",
       "</div>"
      ],
      "text/plain": [
       "   No Customer   Age       City Product     Limit Company        Segment  \\\n",
       "0   1       A1  76.0  BANGALORE    Gold  500000.0      C1  Self Employed   \n",
       "1   1       A1  76.0  BANGALORE    Gold  500000.0      C1  Self Employed   \n",
       "2   1       A1  76.0  BANGALORE    Gold  500000.0      C1  Self Employed   \n",
       "\n",
       "   SL No:      Month     Amount  Unnamed: 4  \n",
       "0     NaN  12-Jan-04  495414.75         NaN  \n",
       "1     2.0   3-Jan-04  245899.02         NaN  \n",
       "2     3.0  15-Jan-04  259490.06         NaN  "
      ]
     },
     "execution_count": 22,
     "metadata": {},
     "output_type": "execute_result"
    }
   ],
   "source": [
    "#merging customer and spend table on the basis of \"Customer\" column\n",
    "customer_repayment=pd.merge(customer,repayment,on=['Customer'],how='inner',suffixes=('_customer','_spend'))\n",
    "customer_repayment.head(3)"
   ]
  },
  {
   "cell_type": "code",
   "execution_count": 23,
   "metadata": {},
   "outputs": [
    {
     "data": {
      "text/html": [
       "<div>\n",
       "<style scoped>\n",
       "    .dataframe tbody tr th:only-of-type {\n",
       "        vertical-align: middle;\n",
       "    }\n",
       "\n",
       "    .dataframe tbody tr th {\n",
       "        vertical-align: top;\n",
       "    }\n",
       "\n",
       "    .dataframe thead th {\n",
       "        text-align: right;\n",
       "    }\n",
       "</style>\n",
       "<table border=\"1\" class=\"dataframe\">\n",
       "  <thead>\n",
       "    <tr style=\"text-align: right;\">\n",
       "      <th></th>\n",
       "      <th>No</th>\n",
       "      <th>Customer</th>\n",
       "      <th>Age</th>\n",
       "      <th>City</th>\n",
       "      <th>Product</th>\n",
       "      <th>Limit</th>\n",
       "      <th>Company</th>\n",
       "      <th>Segment</th>\n",
       "      <th>Sl No:</th>\n",
       "      <th>Month</th>\n",
       "      <th>Type</th>\n",
       "      <th>Amount</th>\n",
       "    </tr>\n",
       "  </thead>\n",
       "  <tbody>\n",
       "  </tbody>\n",
       "</table>\n",
       "</div>"
      ],
      "text/plain": [
       "Empty DataFrame\n",
       "Columns: [No, Customer, Age, City, Product, Limit, Company, Segment, Sl No:, Month, Type, Amount]\n",
       "Index: []"
      ]
     },
     "execution_count": 23,
     "metadata": {},
     "output_type": "execute_result"
    }
   ],
   "source": [
    "#the customers where repayment amount is more than the limit.\n",
    "customer_spend.loc[customer_spend.Amount>customer_spend.Limit].head()"
   ]
  },
  {
   "cell_type": "code",
   "execution_count": 24,
   "metadata": {},
   "outputs": [],
   "source": [
    "#customers where repayment amount is more than the limit, replacing the repayment with the limit.\n",
    "customer_repayment.loc[(customer_repayment.Amount>customer_repayment.Limit),'Amount']=customer_repayment.Limit"
   ]
  },
  {
   "cell_type": "code",
   "execution_count": 25,
   "metadata": {},
   "outputs": [
    {
     "name": "stdout",
     "output_type": "stream",
     "text": [
      "Repayment amount mean : 163321.57\n"
     ]
    }
   ],
   "source": [
    "print('Repayment amount mean : {}'.format(round(customer_repayment.Amount.mean(),2)))"
   ]
  },
  {
   "cell_type": "markdown",
   "metadata": {},
   "source": [
    "## 2.2 From the dataset create the following summaries:"
   ]
  },
  {
   "cell_type": "markdown",
   "metadata": {},
   "source": [
    "### How many distinct customers exist?"
   ]
  },
  {
   "cell_type": "code",
   "execution_count": 26,
   "metadata": {
    "scrolled": true
   },
   "outputs": [
    {
     "name": "stdout",
     "output_type": "stream",
     "text": [
      "Number of distinct customer are 100 .\n"
     ]
    }
   ],
   "source": [
    "distinct_c=customer.Customer.nunique()\n",
    "print('Number of distinct customer are',distinct_c,'.')"
   ]
  },
  {
   "cell_type": "markdown",
   "metadata": {},
   "source": [
    "### How many distinct categories exist?"
   ]
  },
  {
   "cell_type": "markdown",
   "metadata": {},
   "source": [
    "#### Customers from Different Spend Type\n"
   ]
  },
  {
   "cell_type": "code",
   "execution_count": 30,
   "metadata": {},
   "outputs": [],
   "source": [
    "import matplotlib.pyplot as plt\n",
    "import seaborn as sns"
   ]
  },
  {
   "cell_type": "code",
   "execution_count": 31,
   "metadata": {},
   "outputs": [
    {
     "data": {
      "image/png": "[encoded data removed]",
      "text/plain": [
       "<Figure size 720x360 with 1 Axes>"
      ]
     },
     "metadata": {
      "needs_background": "light"
     },
     "output_type": "display_data"
    },
    {
     "name": "stdout",
     "output_type": "stream",
     "text": [
      "Customer Spend Type Value Counts\n",
      "\n",
      "PETRO           200\n",
      "FOOD            160\n",
      "CAMERA          160\n",
      "AIR TICKET      147\n",
      "TRAIN TICKET    132\n",
      "SHOPPING        113\n",
      "BUS TICKET       99\n",
      "JEWELLERY        95\n",
      "CLOTHES          95\n",
      "MOVIE TICKET     76\n",
      "RENTAL           76\n",
      "BIKE             49\n",
      "AUTO             40\n",
      "CAR              30\n",
      "SANDALS          28\n",
      "Name: Type, dtype: int64\n"
     ]
    }
   ],
   "source": [
    "# plot the categories of Type column\n",
    "_ = plt.figure(figsize=(10,5))\n",
    "ax = sns.countplot(x='Type', data=spend, order=spend['Type'].value_counts().index,palette='tab20')\n",
    "_ = plt.title('Distribution of Customer Spending by Categories', fontsize=14, fontweight='bold')\n",
    "_ = plt.ylabel('Count', fontweight='bold')\n",
    "_ = plt.xlabel('Type', fontweight='bold')\n",
    "_ = plt.xticks(rotation=40)\n",
    "\n",
    "# calculate the percentages of the category\n",
    "sizes=[]\n",
    "total_data = len(spend)\n",
    "for p in ax.patches:\n",
    "    height = p.get_height()\n",
    "    ax.text(p.get_x()+p.get_width()/2.,height+1,\n",
    "            '{:1.2f}%'.format(height/total_data*100), ha=\"center\", fontsize=10)\n",
    "\n",
    "# display the plot\n",
    "plt.show()\n",
    "\n",
    "#customer spend type\n",
    "print('Customer Spend Type Value Counts')\n",
    "print('')\n",
    "\n",
    "print(spend.Type.value_counts())"
   ]
  },
  {
   "cell_type": "markdown",
   "metadata": {},
   "source": [
    "<div class=\"span7 alert alert-success\">\n",
    "\n",
    "><b>This graph illustrates the distribution of overall customer spending based on different categories. As the graph shows, the highest amount of spending has been made over petroleum products. Food and come next as 10.67 percent of all customer spending has been made per each. The lowest amount of spending has been made on sandals. Only 1.87 percent of overall spending has been made over this product.\n"
   ]
  },
  {
   "cell_type": "code",
   "execution_count": null,
   "metadata": {},
   "outputs": [],
   "source": []
  },
  {
   "cell_type": "markdown",
   "metadata": {},
   "source": [
    "#### Customers From Different Cities\n"
   ]
  },
  {
   "cell_type": "code",
   "execution_count": 32,
   "metadata": {
    "scrolled": true
   },
   "outputs": [
    {
     "data": {
      "image/png": "[encoded data removed]",
      "text/plain": [
       "<Figure size 720x360 with 1 Axes>"
      ]
     },
     "metadata": {
      "needs_background": "light"
     },
     "output_type": "display_data"
    },
    {
     "name": "stdout",
     "output_type": "stream",
     "text": [
      "Customer City Value Counts\n",
      "\n",
      "COCHIN        20\n",
      "BANGALORE     19\n",
      "CALCUTTA      18\n",
      "BOMBAY        14\n",
      "CHENNAI        8\n",
      "TRIVANDRUM     7\n",
      "PATNA          7\n",
      "DELHI          7\n",
      "Name: City, dtype: int64\n"
     ]
    }
   ],
   "source": [
    "# plot the categories of City column\n",
    "_ = plt.figure(figsize=(10,5))\n",
    "ax = sns.countplot(x='City', data=customer, order=customer['City'].value_counts().index,palette='tab20')\n",
    "_ = plt.title('Distribution of Customers From Diffirent Cities', fontsize=14, fontweight='bold')\n",
    "_ = plt.ylabel('Count', fontweight='bold')\n",
    "_ = plt.xlabel('City', fontweight='bold')\n",
    "_ = plt.xticks(rotation=40)\n",
    "\n",
    "# calculate the percentages of the category\n",
    "sizes=[]\n",
    "total_data = len(customer)\n",
    "for p in ax.patches:\n",
    "    height = p.get_height()\n",
    "    ax.text(p.get_x()+p.get_width()/2.,height+0.2,\n",
    "            '{:1.2f}%'.format(height/total_data*100), ha=\"center\", fontsize=10)\n",
    "\n",
    "# display the plot\n",
    "plt.show()\n",
    "\n",
    "#customer spend type\n",
    "print('Customer City Value Counts')\n",
    "print('')\n",
    "print(customer.City.value_counts())"
   ]
  },
  {
   "cell_type": "markdown",
   "metadata": {},
   "source": [
    "<div class=\"span7 alert alert-success\"><b>This histogram graph demonstrates that Cochin has the highest number of customers in the country while the least amount of customers using credit cards are reported in Delhi.</b></div>"
   ]
  },
  {
   "cell_type": "code",
   "execution_count": null,
   "metadata": {},
   "outputs": [],
   "source": []
  },
  {
   "cell_type": "markdown",
   "metadata": {},
   "source": [
    "#### Customers From Different Products"
   ]
  },
  {
   "cell_type": "code",
   "execution_count": 33,
   "metadata": {
    "scrolled": true
   },
   "outputs": [
    {
     "data": {
      "image/png": "[encoded data removed]",
      "text/plain": [
       "<Figure size 576x576 with 1 Axes>"
      ]
     },
     "metadata": {},
     "output_type": "display_data"
    },
    {
     "name": "stdout",
     "output_type": "stream",
     "text": [
      "Count Products Column\n",
      "\n",
      "Gold        38\n",
      "Platimum    32\n",
      "Silver      30\n",
      "Name: Product, dtype: int64\n"
     ]
    }
   ],
   "source": [
    "count_products=customer.Product.value_counts()\n",
    "\n",
    "plt.figure(figsize=(8,8))\n",
    "explode = (0, 0.1,0)\n",
    "colors=['lightblue','orange','lightgrey']\n",
    "\n",
    "count_products.plot.pie(autopct='%1.1f%%', shadow=True, \n",
    "                                 explode = explode,colors=colors)\n",
    "plt.show()\n",
    "print('Count Products Column')\n",
    "print('')\n",
    "print(count_products)"
   ]
  },
  {
   "cell_type": "markdown",
   "metadata": {},
   "source": [
    "<div class=\"span7 alert alert-success\"><b>This pie chart shows that there is not a very significant difference on the usage of different credit card products in percentage. It reports that the number of customers using Gold credit cards is higher than those using Silver and Platinum products.</b></div>"
   ]
  },
  {
   "cell_type": "markdown",
   "metadata": {},
   "source": [
    "#### Customers From Different Segments"
   ]
  },
  {
   "cell_type": "code",
   "execution_count": 34,
   "metadata": {},
   "outputs": [
    {
     "data": {
      "image/png": "[encoded data removed]",
      "text/plain": [
       "<Figure size 720x360 with 1 Axes>"
      ]
     },
     "metadata": {
      "needs_background": "light"
     },
     "output_type": "display_data"
    },
    {
     "name": "stdout",
     "output_type": "stream",
     "text": [
      "Customer Segment Value Counts\n",
      "\n",
      "Govt             29\n",
      "Self Employed    23\n",
      "Normal Salary    22\n",
      "Salaried_MNC     13\n",
      "Salaried_Pvt     13\n",
      "Name: Segment, dtype: int64\n"
     ]
    }
   ],
   "source": [
    "\n",
    "# plot the categories of Segment column\n",
    "_ = plt.figure(figsize=(10,5))\n",
    "ax = sns.countplot(x='Segment', data=customer, order=customer['Segment'].value_counts().index,palette='tab20')\n",
    "_ = plt.title('Distribution of Customers From Diffirent Segments', fontsize=14, fontweight='bold')\n",
    "_ = plt.ylabel('Count', fontweight='bold')\n",
    "_ = plt.xlabel('Segment', fontweight='bold')\n",
    "_ = plt.xticks(rotation=40)\n",
    "\n",
    "# calculate the percentages of the category\n",
    "sizes=[]\n",
    "total_data = len(customer)\n",
    "for p in ax.patches:\n",
    "    height = p.get_height()\n",
    "    ax.text(p.get_x()+p.get_width()/2.,height+0.2,\n",
    "            '{:1.2f}%'.format(height/total_data*100), ha=\"center\", fontsize=10)\n",
    "\n",
    "# display the plot\n",
    "plt.show()\n",
    "\n",
    "#customer Segment\n",
    "print('Customer Segment Value Counts')\n",
    "print('')\n",
    "print(customer.Segment.value_counts())"
   ]
  },
  {
   "cell_type": "markdown",
   "metadata": {},
   "source": [
    "<div class=\"span4 alert alert-success\">\n",
    "<b>This bar graph illustrates economic status of the customers in the sample. It shows that the number of customers working for government (29%) is higher than people from other occupation groups.</b></div>"
   ]
  },
  {
   "cell_type": "markdown",
   "metadata": {},
   "source": [
    "### What is the average monthly spend by customers?"
   ]
  },
  {
   "cell_type": "code",
   "execution_count": 41,
   "metadata": {},
   "outputs": [
    {
     "data": {
      "text/html": [
       "<div>\n",
       "<style scoped>\n",
       "    .dataframe tbody tr th:only-of-type {\n",
       "        vertical-align: middle;\n",
       "    }\n",
       "\n",
       "    .dataframe tbody tr th {\n",
       "        vertical-align: top;\n",
       "    }\n",
       "\n",
       "    .dataframe thead th {\n",
       "        text-align: right;\n",
       "    }\n",
       "</style>\n",
       "<table border=\"1\" class=\"dataframe\">\n",
       "  <thead>\n",
       "    <tr style=\"text-align: right;\">\n",
       "      <th></th>\n",
       "      <th>No</th>\n",
       "      <th>Customer</th>\n",
       "      <th>Age</th>\n",
       "      <th>City</th>\n",
       "      <th>Product</th>\n",
       "      <th>Limit</th>\n",
       "      <th>Company</th>\n",
       "      <th>Segment</th>\n",
       "      <th>Sl No:</th>\n",
       "      <th>Month</th>\n",
       "      <th>Type</th>\n",
       "      <th>Amount</th>\n",
       "      <th>Yearly</th>\n",
       "      <th>Monthly</th>\n",
       "    </tr>\n",
       "  </thead>\n",
       "  <tbody>\n",
       "    <tr>\n",
       "      <td>0</td>\n",
       "      <td>1</td>\n",
       "      <td>A1</td>\n",
       "      <td>76.0</td>\n",
       "      <td>BANGALORE</td>\n",
       "      <td>Gold</td>\n",
       "      <td>500000.0</td>\n",
       "      <td>C1</td>\n",
       "      <td>Self Employed</td>\n",
       "      <td>1</td>\n",
       "      <td>12-Jan-04</td>\n",
       "      <td>JEWELLERY</td>\n",
       "      <td>485470.80</td>\n",
       "      <td>2004</td>\n",
       "      <td>January</td>\n",
       "    </tr>\n",
       "    <tr>\n",
       "      <td>1</td>\n",
       "      <td>1</td>\n",
       "      <td>A1</td>\n",
       "      <td>76.0</td>\n",
       "      <td>BANGALORE</td>\n",
       "      <td>Gold</td>\n",
       "      <td>500000.0</td>\n",
       "      <td>C1</td>\n",
       "      <td>Self Employed</td>\n",
       "      <td>2</td>\n",
       "      <td>3-Jan-04</td>\n",
       "      <td>PETRO</td>\n",
       "      <td>410556.13</td>\n",
       "      <td>2004</td>\n",
       "      <td>January</td>\n",
       "    </tr>\n",
       "    <tr>\n",
       "      <td>2</td>\n",
       "      <td>1</td>\n",
       "      <td>A1</td>\n",
       "      <td>76.0</td>\n",
       "      <td>BANGALORE</td>\n",
       "      <td>Gold</td>\n",
       "      <td>500000.0</td>\n",
       "      <td>C1</td>\n",
       "      <td>Self Employed</td>\n",
       "      <td>3</td>\n",
       "      <td>15-Jan-04</td>\n",
       "      <td>CLOTHES</td>\n",
       "      <td>23740.46</td>\n",
       "      <td>2004</td>\n",
       "      <td>January</td>\n",
       "    </tr>\n",
       "  </tbody>\n",
       "</table>\n",
       "</div>"
      ],
      "text/plain": [
       "   No Customer   Age       City Product     Limit Company        Segment  \\\n",
       "0   1       A1  76.0  BANGALORE    Gold  500000.0      C1  Self Employed   \n",
       "1   1       A1  76.0  BANGALORE    Gold  500000.0      C1  Self Employed   \n",
       "2   1       A1  76.0  BANGALORE    Gold  500000.0      C1  Self Employed   \n",
       "\n",
       "   Sl No:      Month       Type     Amount Yearly  Monthly  \n",
       "0       1  12-Jan-04  JEWELLERY  485470.80   2004  January  \n",
       "1       2   3-Jan-04      PETRO  410556.13   2004  January  \n",
       "2       3  15-Jan-04    CLOTHES   23740.46   2004  January  "
      ]
     },
     "execution_count": 41,
     "metadata": {},
     "output_type": "execute_result"
    }
   ],
   "source": [
    "#creating new columns which show \"Month\" and \"Year\"\n",
    "customer_spend['Yearly']=customer_spend.Month.apply(pd.to_datetime).dt.year.astype('category')\n",
    "customer_spend['Monthly']=customer_spend.Month.apply(pd.to_datetime).dt.strftime(\"%B\")\n",
    "customer_spend.head(3)"
   ]
  },
  {
   "cell_type": "code",
   "execution_count": 42,
   "metadata": {
    "scrolled": true
   },
   "outputs": [
    {
     "name": "stdout",
     "output_type": "stream",
     "text": [
      "                     Amount\n",
      "Yearly Monthly             \n",
      "2004   April      139622.26\n",
      "       August           NaN\n",
      "       December         NaN\n",
      "       February   158605.87\n",
      "       January    159641.37\n",
      "       July             NaN\n",
      "       June             NaN\n",
      "       March      148708.23\n",
      "       May        164398.63\n",
      "       November   112142.61\n",
      "       October          NaN\n",
      "       September  183365.30\n",
      "2005   April      158038.28\n",
      "       August     153314.83\n",
      "       December    95844.82\n",
      "       February   164453.66\n",
      "       January    197271.89\n",
      "       July       132946.23\n",
      "       June       202155.17\n",
      "       March            NaN\n",
      "       May        167804.64\n",
      "       November   191929.94\n",
      "       October    105236.96\n",
      "       September  127995.60\n",
      "2006   April      149956.71\n",
      "       August     214221.06\n",
      "       December   165129.65\n",
      "       February   158122.12\n",
      "       January    151669.87\n",
      "       July       207124.75\n",
      "       June       163114.50\n",
      "       March      146444.09\n",
      "       May        159586.84\n",
      "       November   150355.50\n",
      "       October    173227.86\n",
      "       September  146320.68\n"
     ]
    },
    {
     "data": {
      "image/png": "[encoded data removed]",
      "text/plain": [
       "<Figure size 720x216 with 1 Axes>"
      ]
     },
     "metadata": {
      "needs_background": "light"
     },
     "output_type": "display_data"
    }
   ],
   "source": [
    "#grouping the dataset based on 'Yearly' and 'monthly'\n",
    "spend_group=round(customer_spend.groupby(['Yearly','Monthly'])[['Amount']].mean(),2)\n",
    "\n",
    "spend_group.plot(kind='bar',figsize=(10,3),width=(0.4))\n",
    "plt.xlabel('Yearly and Monthly')\n",
    "plt.ylabel('Amount')\n",
    "plt.title('Yearly and Monthly Spend Amount')\n",
    "#plt.margins(0.02)\n",
    "\n",
    "print(spend_group)\n"
   ]
  },
  {
   "cell_type": "markdown",
   "metadata": {},
   "source": [
    "<div class=\"span4 alert alert-success\">\n",
    "   \n",
    "   <b>The above graph demonstrates the two-year distribution of customer spending. The time range covers from April 2004 to September 2006. It suggests that the highest amount of customer spending is reported on August 2006. The least amount of customer spending is on December 2005.  \n",
    "        \n",
    "   The graph below shows the same two-year distribution for repayment by customers. It demonstrates that the highest amount of repayments is reported on October 2006 and January 2006. The least amount of repayment by customers is reported on September 2005. \n",
    "   \n",
    "       Thus, the dates of the highest and lowest customer spending do not match with the dates of the highest and lowest repayment by customers.</b></div>"
   ]
  },
  {
   "cell_type": "markdown",
   "metadata": {},
   "source": [
    "### What is the average monthly repayment by customers?"
   ]
  },
  {
   "cell_type": "code",
   "execution_count": 43,
   "metadata": {},
   "outputs": [
    {
     "data": {
      "text/html": [
       "<div>\n",
       "<style scoped>\n",
       "    .dataframe tbody tr th:only-of-type {\n",
       "        vertical-align: middle;\n",
       "    }\n",
       "\n",
       "    .dataframe tbody tr th {\n",
       "        vertical-align: top;\n",
       "    }\n",
       "\n",
       "    .dataframe thead th {\n",
       "        text-align: right;\n",
       "    }\n",
       "</style>\n",
       "<table border=\"1\" class=\"dataframe\">\n",
       "  <thead>\n",
       "    <tr style=\"text-align: right;\">\n",
       "      <th></th>\n",
       "      <th>No</th>\n",
       "      <th>Customer</th>\n",
       "      <th>Age</th>\n",
       "      <th>City</th>\n",
       "      <th>Product</th>\n",
       "      <th>Limit</th>\n",
       "      <th>Company</th>\n",
       "      <th>Segment</th>\n",
       "      <th>SL No:</th>\n",
       "      <th>Month</th>\n",
       "      <th>Amount</th>\n",
       "      <th>Unnamed: 4</th>\n",
       "    </tr>\n",
       "  </thead>\n",
       "  <tbody>\n",
       "    <tr>\n",
       "      <td>0</td>\n",
       "      <td>1</td>\n",
       "      <td>A1</td>\n",
       "      <td>76.0</td>\n",
       "      <td>BANGALORE</td>\n",
       "      <td>Gold</td>\n",
       "      <td>500000.0</td>\n",
       "      <td>C1</td>\n",
       "      <td>Self Employed</td>\n",
       "      <td>NaN</td>\n",
       "      <td>12-Jan-04</td>\n",
       "      <td>495414.75</td>\n",
       "      <td>NaN</td>\n",
       "    </tr>\n",
       "    <tr>\n",
       "      <td>1</td>\n",
       "      <td>1</td>\n",
       "      <td>A1</td>\n",
       "      <td>76.0</td>\n",
       "      <td>BANGALORE</td>\n",
       "      <td>Gold</td>\n",
       "      <td>500000.0</td>\n",
       "      <td>C1</td>\n",
       "      <td>Self Employed</td>\n",
       "      <td>2.0</td>\n",
       "      <td>3-Jan-04</td>\n",
       "      <td>245899.02</td>\n",
       "      <td>NaN</td>\n",
       "    </tr>\n",
       "    <tr>\n",
       "      <td>2</td>\n",
       "      <td>1</td>\n",
       "      <td>A1</td>\n",
       "      <td>76.0</td>\n",
       "      <td>BANGALORE</td>\n",
       "      <td>Gold</td>\n",
       "      <td>500000.0</td>\n",
       "      <td>C1</td>\n",
       "      <td>Self Employed</td>\n",
       "      <td>3.0</td>\n",
       "      <td>15-Jan-04</td>\n",
       "      <td>259490.06</td>\n",
       "      <td>NaN</td>\n",
       "    </tr>\n",
       "  </tbody>\n",
       "</table>\n",
       "</div>"
      ],
      "text/plain": [
       "   No Customer   Age       City Product     Limit Company        Segment  \\\n",
       "0   1       A1  76.0  BANGALORE    Gold  500000.0      C1  Self Employed   \n",
       "1   1       A1  76.0  BANGALORE    Gold  500000.0      C1  Self Employed   \n",
       "2   1       A1  76.0  BANGALORE    Gold  500000.0      C1  Self Employed   \n",
       "\n",
       "   SL No:      Month     Amount  Unnamed: 4  \n",
       "0     NaN  12-Jan-04  495414.75         NaN  \n",
       "1     2.0   3-Jan-04  245899.02         NaN  \n",
       "2     3.0  15-Jan-04  259490.06         NaN  "
      ]
     },
     "execution_count": 43,
     "metadata": {},
     "output_type": "execute_result"
    }
   ],
   "source": [
    "customer_repayment.head(3)"
   ]
  },
  {
   "cell_type": "code",
   "execution_count": 48,
   "metadata": {},
   "outputs": [
    {
     "data": {
      "text/html": [
       "<div>\n",
       "<style scoped>\n",
       "    .dataframe tbody tr th:only-of-type {\n",
       "        vertical-align: middle;\n",
       "    }\n",
       "\n",
       "    .dataframe tbody tr th {\n",
       "        vertical-align: top;\n",
       "    }\n",
       "\n",
       "    .dataframe thead th {\n",
       "        text-align: right;\n",
       "    }\n",
       "</style>\n",
       "<table border=\"1\" class=\"dataframe\">\n",
       "  <thead>\n",
       "    <tr style=\"text-align: right;\">\n",
       "      <th></th>\n",
       "      <th>No</th>\n",
       "      <th>Customer</th>\n",
       "      <th>Age</th>\n",
       "      <th>City</th>\n",
       "      <th>Product</th>\n",
       "      <th>Limit</th>\n",
       "      <th>Company</th>\n",
       "      <th>Segment</th>\n",
       "      <th>SL No:</th>\n",
       "      <th>Month</th>\n",
       "      <th>Amount</th>\n",
       "      <th>Unnamed: 4</th>\n",
       "      <th>Yearly</th>\n",
       "      <th>Monthly</th>\n",
       "    </tr>\n",
       "  </thead>\n",
       "  <tbody>\n",
       "    <tr>\n",
       "      <td>0</td>\n",
       "      <td>1</td>\n",
       "      <td>A1</td>\n",
       "      <td>76.0</td>\n",
       "      <td>BANGALORE</td>\n",
       "      <td>Gold</td>\n",
       "      <td>500000.0</td>\n",
       "      <td>C1</td>\n",
       "      <td>Self Employed</td>\n",
       "      <td>NaN</td>\n",
       "      <td>12-Jan-04</td>\n",
       "      <td>495414.75</td>\n",
       "      <td>NaN</td>\n",
       "      <td>2004</td>\n",
       "      <td>January</td>\n",
       "    </tr>\n",
       "    <tr>\n",
       "      <td>1</td>\n",
       "      <td>1</td>\n",
       "      <td>A1</td>\n",
       "      <td>76.0</td>\n",
       "      <td>BANGALORE</td>\n",
       "      <td>Gold</td>\n",
       "      <td>500000.0</td>\n",
       "      <td>C1</td>\n",
       "      <td>Self Employed</td>\n",
       "      <td>2.0</td>\n",
       "      <td>3-Jan-04</td>\n",
       "      <td>245899.02</td>\n",
       "      <td>NaN</td>\n",
       "      <td>2004</td>\n",
       "      <td>January</td>\n",
       "    </tr>\n",
       "  </tbody>\n",
       "</table>\n",
       "</div>"
      ],
      "text/plain": [
       "   No Customer   Age       City Product     Limit Company        Segment  \\\n",
       "0   1       A1  76.0  BANGALORE    Gold  500000.0      C1  Self Employed   \n",
       "1   1       A1  76.0  BANGALORE    Gold  500000.0      C1  Self Employed   \n",
       "\n",
       "   SL No:      Month     Amount  Unnamed: 4  Yearly  Monthly  \n",
       "0     NaN  12-Jan-04  495414.75         NaN    2004  January  \n",
       "1     2.0   3-Jan-04  245899.02         NaN    2004  January  "
      ]
     },
     "execution_count": 48,
     "metadata": {},
     "output_type": "execute_result"
    }
   ],
   "source": [
    "#creating new columns which show \"Month\" and \"Year\"\n",
    "customer_repayment['Yearly']=customer_repayment.Month.apply(pd.to_datetime).dt.year\n",
    "customer_repayment['Monthly']=customer_repayment.Month.apply(pd.to_datetime).dt.strftime(\"%B\")\n",
    "customer_repayment.head(2)\n"
   ]
  },
  {
   "cell_type": "code",
   "execution_count": 49,
   "metadata": {
    "scrolled": false
   },
   "outputs": [
    {
     "data": {
      "text/plain": [
       "Text(0.5, 1.0, 'Yearly and Monthly Repayment Amount')"
      ]
     },
     "execution_count": 49,
     "metadata": {},
     "output_type": "execute_result"
    },
    {
     "data": {
      "image/png": "[encoded data removed]",
      "text/plain": [
       "<Figure size 720x216 with 1 Axes>"
      ]
     },
     "metadata": {
      "needs_background": "light"
     },
     "output_type": "display_data"
    }
   ],
   "source": [
    "#grouping the dataset based on 'Yearly' and 'monthly'\n",
    "groupby_ym=round(customer_repayment.groupby(['Yearly','Monthly'])[['Amount']].mean(),2).sort_values(by=['Yearly','Monthly'])\n",
    "#print(groupby_ym.head(2))\n",
    "\n",
    "groupby_ym.plot(kind='bar',figsize=(10,3),width=(0.4),color='green')\n",
    "plt.xlabel('Yearly and Monthly')\n",
    "plt.ylabel('Amount')\n",
    "plt.title('Yearly and Monthly Repayment Amount')\n",
    "#plt.margins(0.02)\n",
    "\n"
   ]
  },
  {
   "cell_type": "markdown",
   "metadata": {},
   "source": [
    "<div class=\"span4 alert alert-success\"> <b>The above graph demonstrates yearly and monthly distribution of credit card payments. It demonstrates that the highest amounts of credit card payments have been made in October 2006 and January 2006. The lowest amount of payment is reported on September 2005. \n",
    "    \n",
    "    The evidence in this graph and the previous graph suggest that we don’t see an overlap in terms of the dates of highest credit card payments and highest customer spending. \n",
    "</b></div>"
   ]
  },
  {
   "cell_type": "markdown",
   "metadata": {},
   "source": [
    "### What are the top 5 product types?"
   ]
  },
  {
   "cell_type": "code",
   "execution_count": 50,
   "metadata": {},
   "outputs": [
    {
     "data": {
      "text/html": [
       "<div>\n",
       "<style scoped>\n",
       "    .dataframe tbody tr th:only-of-type {\n",
       "        vertical-align: middle;\n",
       "    }\n",
       "\n",
       "    .dataframe tbody tr th {\n",
       "        vertical-align: top;\n",
       "    }\n",
       "\n",
       "    .dataframe thead th {\n",
       "        text-align: right;\n",
       "    }\n",
       "</style>\n",
       "<table border=\"1\" class=\"dataframe\">\n",
       "  <thead>\n",
       "    <tr style=\"text-align: right;\">\n",
       "      <th></th>\n",
       "      <th>Sl No:</th>\n",
       "      <th>Customer</th>\n",
       "      <th>Month</th>\n",
       "      <th>Type</th>\n",
       "      <th>Amount</th>\n",
       "    </tr>\n",
       "  </thead>\n",
       "  <tbody>\n",
       "    <tr>\n",
       "      <td>0</td>\n",
       "      <td>1</td>\n",
       "      <td>A1</td>\n",
       "      <td>12-Jan-04</td>\n",
       "      <td>JEWELLERY</td>\n",
       "      <td>485470.80</td>\n",
       "    </tr>\n",
       "    <tr>\n",
       "      <td>1</td>\n",
       "      <td>2</td>\n",
       "      <td>A1</td>\n",
       "      <td>3-Jan-04</td>\n",
       "      <td>PETRO</td>\n",
       "      <td>410556.13</td>\n",
       "    </tr>\n",
       "  </tbody>\n",
       "</table>\n",
       "</div>"
      ],
      "text/plain": [
       "   Sl No: Customer      Month       Type     Amount\n",
       "0       1       A1  12-Jan-04  JEWELLERY  485470.80\n",
       "1       2       A1   3-Jan-04      PETRO  410556.13"
      ]
     },
     "execution_count": 50,
     "metadata": {},
     "output_type": "execute_result"
    }
   ],
   "source": [
    "spend.head(2)"
   ]
  },
  {
   "cell_type": "code",
   "execution_count": 51,
   "metadata": {},
   "outputs": [
    {
     "data": {
      "text/plain": [
       "PETRO           200\n",
       "CAMERA          160\n",
       "FOOD            160\n",
       "AIR TICKET      147\n",
       "TRAIN TICKET    132\n",
       "Name: Type, dtype: int64"
      ]
     },
     "execution_count": 51,
     "metadata": {},
     "output_type": "execute_result"
    }
   ],
   "source": [
    "spend.Type.value_counts().sort_values(ascending=False).head()"
   ]
  },
  {
   "cell_type": "markdown",
   "metadata": {},
   "source": [
    "### Which city is having maximum spend?"
   ]
  },
  {
   "cell_type": "code",
   "execution_count": 52,
   "metadata": {},
   "outputs": [
    {
     "data": {
      "text/plain": [
       "City\n",
       "COCHIN        49378593.00\n",
       "BANGALORE     44746735.52\n",
       "CALCUTTA      43333193.30\n",
       "BOMBAY        32298185.88\n",
       "CHENNAI       22883652.65\n",
       "PATNA         17410601.97\n",
       "TRIVANDRUM    16397180.37\n",
       "DELHI         13468330.04\n",
       "Name: Amount, dtype: float64"
      ]
     },
     "execution_count": 52,
     "metadata": {},
     "output_type": "execute_result"
    }
   ],
   "source": [
    "city_spend=customer_spend.groupby(\"City\")[\"Amount\"].sum().sort_values(ascending=False)\n",
    "city_spend"
   ]
  },
  {
   "cell_type": "code",
   "execution_count": 53,
   "metadata": {
    "scrolled": true
   },
   "outputs": [
    {
     "data": {
      "image/png": "[encoded data removed]",
      "text/plain": [
       "<Figure size 360x864 with 1 Axes>"
      ]
     },
     "metadata": {},
     "output_type": "display_data"
    }
   ],
   "source": [
    "plt.figure(figsize=(5,12))\n",
    "city_spend.plot(kind=\"pie\",autopct=\"%1.0f%%\",shadow=False,labeldistance=1,explode=[0.1,0.0,0.0,0.0,0.0,0.0,0.0,0.0])\n",
    "plt.title(\"Spending Amount from different cities\")\n",
    "plt.show()\n"
   ]
  },
  {
   "cell_type": "markdown",
   "metadata": {},
   "source": [
    "<div class=\"span4 alert alert-success\"> <b>Cities Spending Ratio :   \n",
    "In the pie chart above, we have illustrated the amount of customer spending in different cities. It reports the highest customer spending is produced in Cochin, which is not surprising because it includes the largest amounts of customers in the sample.</b></div>"
   ]
  },
  {
   "cell_type": "markdown",
   "metadata": {},
   "source": [
    "### Which age group is spending more money?"
   ]
  },
  {
   "cell_type": "code",
   "execution_count": 55,
   "metadata": {},
   "outputs": [],
   "source": [
    "import numpy as np"
   ]
  },
  {
   "cell_type": "code",
   "execution_count": 56,
   "metadata": {},
   "outputs": [
    {
     "data": {
      "text/html": [
       "<div>\n",
       "<style scoped>\n",
       "    .dataframe tbody tr th:only-of-type {\n",
       "        vertical-align: middle;\n",
       "    }\n",
       "\n",
       "    .dataframe tbody tr th {\n",
       "        vertical-align: top;\n",
       "    }\n",
       "\n",
       "    .dataframe thead th {\n",
       "        text-align: right;\n",
       "    }\n",
       "</style>\n",
       "<table border=\"1\" class=\"dataframe\">\n",
       "  <thead>\n",
       "    <tr style=\"text-align: right;\">\n",
       "      <th></th>\n",
       "      <th>No</th>\n",
       "      <th>Customer</th>\n",
       "      <th>Age</th>\n",
       "      <th>City</th>\n",
       "      <th>Product</th>\n",
       "      <th>Limit</th>\n",
       "      <th>Company</th>\n",
       "      <th>Segment</th>\n",
       "      <th>Sl No:</th>\n",
       "      <th>Month</th>\n",
       "      <th>Type</th>\n",
       "      <th>Amount</th>\n",
       "      <th>Yearly</th>\n",
       "      <th>Monthly</th>\n",
       "      <th>Age Group</th>\n",
       "    </tr>\n",
       "  </thead>\n",
       "  <tbody>\n",
       "    <tr>\n",
       "      <td>0</td>\n",
       "      <td>1</td>\n",
       "      <td>A1</td>\n",
       "      <td>76.0</td>\n",
       "      <td>BANGALORE</td>\n",
       "      <td>Gold</td>\n",
       "      <td>500000.0</td>\n",
       "      <td>C1</td>\n",
       "      <td>Self Employed</td>\n",
       "      <td>1</td>\n",
       "      <td>12-Jan-04</td>\n",
       "      <td>JEWELLERY</td>\n",
       "      <td>485470.80</td>\n",
       "      <td>2004</td>\n",
       "      <td>January</td>\n",
       "      <td>66-82</td>\n",
       "    </tr>\n",
       "    <tr>\n",
       "      <td>1</td>\n",
       "      <td>1</td>\n",
       "      <td>A1</td>\n",
       "      <td>76.0</td>\n",
       "      <td>BANGALORE</td>\n",
       "      <td>Gold</td>\n",
       "      <td>500000.0</td>\n",
       "      <td>C1</td>\n",
       "      <td>Self Employed</td>\n",
       "      <td>2</td>\n",
       "      <td>3-Jan-04</td>\n",
       "      <td>PETRO</td>\n",
       "      <td>410556.13</td>\n",
       "      <td>2004</td>\n",
       "      <td>January</td>\n",
       "      <td>66-82</td>\n",
       "    </tr>\n",
       "  </tbody>\n",
       "</table>\n",
       "</div>"
      ],
      "text/plain": [
       "   No Customer   Age       City Product     Limit Company        Segment  \\\n",
       "0   1       A1  76.0  BANGALORE    Gold  500000.0      C1  Self Employed   \n",
       "1   1       A1  76.0  BANGALORE    Gold  500000.0      C1  Self Employed   \n",
       "\n",
       "   Sl No:      Month       Type     Amount Yearly  Monthly Age Group  \n",
       "0       1  12-Jan-04  JEWELLERY  485470.80   2004  January     66-82  \n",
       "1       2   3-Jan-04      PETRO  410556.13   2004  January     66-82  "
      ]
     },
     "execution_count": 56,
     "metadata": {},
     "output_type": "execute_result"
    }
   ],
   "source": [
    "#creating new column \"Age Group\" with 8 bins between 18 to 90 \n",
    "customer_spend[\"Age Group\"] =  pd.cut(customer_spend[\"Age\"],bins=np.arange(18,90,12),labels=[\"18-30\",\"30-42\",'42-54' ,\"54-66\" ,\"66-82\"],include_lowest=True)\n",
    "customer_spend.head(2)"
   ]
  },
  {
   "cell_type": "code",
   "execution_count": 57,
   "metadata": {},
   "outputs": [
    {
     "data": {
      "text/plain": [
       "Age Group\n",
       "42-54    78751818.53\n",
       "18-30    56064951.71\n",
       "30-42    45730394.75\n",
       "66-82    39922277.07\n",
       "54-66    17992493.48\n",
       "Name: Amount, dtype: float64"
      ]
     },
     "execution_count": 57,
     "metadata": {},
     "output_type": "execute_result"
    }
   ],
   "source": [
    "#grouping data based on \"Age Group\" and finding the amount spend by each age group and arranging in descending oreder\n",
    "age_spend = customer_spend.groupby(\"Age Group\")['Amount'].sum().sort_values(ascending=False)\n",
    "age_spend"
   ]
  },
  {
   "cell_type": "code",
   "execution_count": 58,
   "metadata": {
    "scrolled": true
   },
   "outputs": [
    {
     "data": {
      "image/png": "[encoded data removed]",
      "text/plain": [
       "<Figure size 360x720 with 1 Axes>"
      ]
     },
     "metadata": {},
     "output_type": "display_data"
    },
    {
     "data": {
      "text/plain": [
       "'From the pie chart shown above we can say that age group 42 - 54 is spending more money'"
      ]
     },
     "execution_count": 58,
     "metadata": {},
     "output_type": "execute_result"
    }
   ],
   "source": [
    "plt.figure(figsize=(5,10))\n",
    "age_spend.plot(kind = \"pie\",autopct=\"%1.0f%%\",explode=[0.1,0.0,0.0,0.0,0.0],shadow=False)\n",
    "plt.title(\"Spending Amount from different Age Group\")\n",
    "plt.show()\n",
    "'''From the pie chart shown above we can say that age group 42 - 54 is spending more money'''"
   ]
  },
  {
   "cell_type": "markdown",
   "metadata": {},
   "source": [
    "## 2.3 Distribution of the City Wise Spending on each Product by Year\n",
    "Calculate the city wise spend on each product on yearly basis. Also include a graphical representation for the same."
   ]
  },
  {
   "cell_type": "code",
   "execution_count": 59,
   "metadata": {
    "scrolled": true
   },
   "outputs": [
    {
     "data": {
      "text/html": [
       "<div>\n",
       "<style scoped>\n",
       "    .dataframe tbody tr th:only-of-type {\n",
       "        vertical-align: middle;\n",
       "    }\n",
       "\n",
       "    .dataframe tbody tr th {\n",
       "        vertical-align: top;\n",
       "    }\n",
       "\n",
       "    .dataframe thead th {\n",
       "        text-align: right;\n",
       "    }\n",
       "</style>\n",
       "<table border=\"1\" class=\"dataframe\">\n",
       "  <thead>\n",
       "    <tr style=\"text-align: right;\">\n",
       "      <th></th>\n",
       "      <th>No</th>\n",
       "      <th>Customer</th>\n",
       "      <th>Age</th>\n",
       "      <th>City</th>\n",
       "      <th>Product</th>\n",
       "      <th>Limit</th>\n",
       "      <th>Company</th>\n",
       "      <th>Segment</th>\n",
       "      <th>Sl No:</th>\n",
       "      <th>Month</th>\n",
       "      <th>Type</th>\n",
       "      <th>Amount</th>\n",
       "      <th>Yearly</th>\n",
       "      <th>Monthly</th>\n",
       "      <th>Age Group</th>\n",
       "    </tr>\n",
       "  </thead>\n",
       "  <tbody>\n",
       "    <tr>\n",
       "      <td>0</td>\n",
       "      <td>1</td>\n",
       "      <td>A1</td>\n",
       "      <td>76.0</td>\n",
       "      <td>BANGALORE</td>\n",
       "      <td>Gold</td>\n",
       "      <td>500000.0</td>\n",
       "      <td>C1</td>\n",
       "      <td>Self Employed</td>\n",
       "      <td>1</td>\n",
       "      <td>12-Jan-04</td>\n",
       "      <td>JEWELLERY</td>\n",
       "      <td>485470.80</td>\n",
       "      <td>2004</td>\n",
       "      <td>January</td>\n",
       "      <td>66-82</td>\n",
       "    </tr>\n",
       "    <tr>\n",
       "      <td>1</td>\n",
       "      <td>1</td>\n",
       "      <td>A1</td>\n",
       "      <td>76.0</td>\n",
       "      <td>BANGALORE</td>\n",
       "      <td>Gold</td>\n",
       "      <td>500000.0</td>\n",
       "      <td>C1</td>\n",
       "      <td>Self Employed</td>\n",
       "      <td>2</td>\n",
       "      <td>3-Jan-04</td>\n",
       "      <td>PETRO</td>\n",
       "      <td>410556.13</td>\n",
       "      <td>2004</td>\n",
       "      <td>January</td>\n",
       "      <td>66-82</td>\n",
       "    </tr>\n",
       "  </tbody>\n",
       "</table>\n",
       "</div>"
      ],
      "text/plain": [
       "   No Customer   Age       City Product     Limit Company        Segment  \\\n",
       "0   1       A1  76.0  BANGALORE    Gold  500000.0      C1  Self Employed   \n",
       "1   1       A1  76.0  BANGALORE    Gold  500000.0      C1  Self Employed   \n",
       "\n",
       "   Sl No:      Month       Type     Amount Yearly  Monthly Age Group  \n",
       "0       1  12-Jan-04  JEWELLERY  485470.80   2004  January     66-82  \n",
       "1       2   3-Jan-04      PETRO  410556.13   2004  January     66-82  "
      ]
     },
     "execution_count": 59,
     "metadata": {},
     "output_type": "execute_result"
    }
   ],
   "source": [
    "customer_spend.head(2)"
   ]
  },
  {
   "cell_type": "code",
   "execution_count": 60,
   "metadata": {
    "scrolled": true
   },
   "outputs": [
    {
     "data": {
      "image/png": "[encoded data removed]",
      "text/plain": [
       "<Figure size 1296x360 with 1 Axes>"
      ]
     },
     "metadata": {
      "needs_background": "light"
     },
     "output_type": "display_data"
    }
   ],
   "source": [
    "customer_spend_cy = pd.pivot_table(data = customer_spend,index=[\"City\",\"Yearly\"],columns='Product',aggfunc=\"sum\",values=\"Amount\")\n",
    "#print(round(customer_spend_p,1))\n",
    "\n",
    "customer_spend_cy.plot(kind=\"bar\",figsize=(18,5),width=0.8)\n",
    "plt.ylabel(\"Spend Amount\")\n",
    "plt.title(\"Amount spended by customers according to year and city\")\n",
    "plt.show()"
   ]
  },
  {
   "cell_type": "markdown",
   "metadata": {},
   "source": [
    "<div class=\"span3 alert alert-success\"> <b>This graph above demonstrates that customers with gold credit cards make higher spending than those with platinum and silver. The only two cities where customers with platinum card has made more spending than those with gold cards are Trivandrum, in 2005, and Chennai in 2004. It also reports that the highest amount of customer spending has been made in Bangalore in 2005. </b></div>\n"
   ]
  },
  {
   "cell_type": "markdown",
   "metadata": {},
   "source": [
    "## 2.4 Distribution of the Segment Wise Spend \n",
    "Calculate the segment wise spend on each product and calculate the segment wise spend. Also include a graphical representation for the same."
   ]
  },
  {
   "cell_type": "code",
   "execution_count": 61,
   "metadata": {
    "scrolled": true
   },
   "outputs": [
    {
     "data": {
      "image/png": "[encoded data removed]",
      "text/plain": [
       "<Figure size 504x360 with 1 Axes>"
      ]
     },
     "metadata": {
      "needs_background": "light"
     },
     "output_type": "display_data"
    },
    {
     "name": "stdout",
     "output_type": "stream",
     "text": [
      "Product              Gold    Platimum     Silver\n",
      "Segment                                         \n",
      "Govt           21100064.8  10263746.6  8118430.3\n",
      "Normal Salary  35904701.9  23506868.9  5270799.2\n",
      "Salaried_MNC   21914735.3   8200598.2  6904079.6\n",
      "Salaried_Pvt   31974024.2  12168587.6  4208467.9\n",
      "Self Employed  35306828.8   9482842.6  5591696.8\n"
     ]
    }
   ],
   "source": [
    "customer_spend_ss = pd.pivot_table(data = customer_spend,index=\"Segment\",columns='Product',aggfunc=\"sum\",values=\"Amount\")\n",
    "\n",
    "\n",
    "customer_spend_ss.plot(kind=\"bar\",figsize=(7,5),width=0.8)\n",
    "plt.ylabel(\"Spend Amount\")\n",
    "plt.title(\"Amount spended by customers according to  and segment\")\n",
    "plt.show()\n",
    "print(round(customer_spend_ss,1))"
   ]
  },
  {
   "cell_type": "code",
   "execution_count": 62,
   "metadata": {},
   "outputs": [
    {
     "data": {
      "image/png": "[encoded data removed]",
      "text/plain": [
       "<Figure size 576x360 with 1 Axes>"
      ]
     },
     "metadata": {
      "needs_background": "light"
     },
     "output_type": "display_data"
    },
    {
     "name": "stdout",
     "output_type": "stream",
     "text": [
      "                   Amount\n",
      "Segment                  \n",
      "Govt           39482241.7\n",
      "Normal Salary  64682370.0\n",
      "Salaried_MNC   37019413.1\n",
      "Salaried_Pvt   48351079.8\n",
      "Self Employed  50381368.2\n"
     ]
    }
   ],
   "source": [
    "#calculate the segment wise spend. Also include a graphical representation for the same\n",
    "customer_spend_ss = pd.pivot_table(data = customer_spend,index=[\"Segment\"],aggfunc=\"sum\",values=\"Amount\")\n",
    "\n",
    "customer_spend_ss.plot(kind=\"bar\",figsize=(8,5),width=0.8)\n",
    "plt.margins(0.02)\n",
    "plt.ylabel(\"Spend Amount\")\n",
    "plt.title(\"Amount spended by customers according to  segment\")\n",
    "plt.show()\n",
    "print(round(customer_spend_ss,1))"
   ]
  },
  {
   "cell_type": "markdown",
   "metadata": {},
   "source": [
    "<div class=\"span3 alert alert-success\"> <b>The two graphs above show the distribution of customer spending based on different economic segments. Both graphs suggest that people with normal salary are making the highest spending compared to customers in the other economic segments, particularly those having gold and platinum credit cards. However, the amount of spending made by the customers at the normal salary segment who use silver credit cards is not at the highest level, compared to customers at other economic segments who use silver cards. The graph on the left suggests that customers who work in government jobs and use silver cards make higher amounts of spending than those with silver cards at other economic segments.</b></div>\n"
   ]
  },
  {
   "cell_type": "markdown",
   "metadata": {},
   "source": [
    "## 2.5 Distribution of the Segment Wise Repayment\n",
    "\n",
    "Calculate the segment wise repayment on each product and calculate the segment wise repayment. Also include a graphical representation for the same."
   ]
  },
  {
   "cell_type": "code",
   "execution_count": 63,
   "metadata": {},
   "outputs": [
    {
     "data": {
      "text/html": [
       "<div>\n",
       "<style scoped>\n",
       "    .dataframe tbody tr th:only-of-type {\n",
       "        vertical-align: middle;\n",
       "    }\n",
       "\n",
       "    .dataframe tbody tr th {\n",
       "        vertical-align: top;\n",
       "    }\n",
       "\n",
       "    .dataframe thead th {\n",
       "        text-align: right;\n",
       "    }\n",
       "</style>\n",
       "<table border=\"1\" class=\"dataframe\">\n",
       "  <thead>\n",
       "    <tr style=\"text-align: right;\">\n",
       "      <th></th>\n",
       "      <th>No</th>\n",
       "      <th>Customer</th>\n",
       "      <th>Age</th>\n",
       "      <th>City</th>\n",
       "      <th>Product</th>\n",
       "      <th>Limit</th>\n",
       "      <th>Company</th>\n",
       "      <th>Segment</th>\n",
       "      <th>SL No:</th>\n",
       "      <th>Month</th>\n",
       "      <th>Amount</th>\n",
       "      <th>Unnamed: 4</th>\n",
       "      <th>Yearly</th>\n",
       "      <th>Monthly</th>\n",
       "    </tr>\n",
       "  </thead>\n",
       "  <tbody>\n",
       "    <tr>\n",
       "      <td>0</td>\n",
       "      <td>1</td>\n",
       "      <td>A1</td>\n",
       "      <td>76.0</td>\n",
       "      <td>BANGALORE</td>\n",
       "      <td>Gold</td>\n",
       "      <td>500000.0</td>\n",
       "      <td>C1</td>\n",
       "      <td>Self Employed</td>\n",
       "      <td>NaN</td>\n",
       "      <td>12-Jan-04</td>\n",
       "      <td>495414.75</td>\n",
       "      <td>NaN</td>\n",
       "      <td>2004</td>\n",
       "      <td>January</td>\n",
       "    </tr>\n",
       "    <tr>\n",
       "      <td>1</td>\n",
       "      <td>1</td>\n",
       "      <td>A1</td>\n",
       "      <td>76.0</td>\n",
       "      <td>BANGALORE</td>\n",
       "      <td>Gold</td>\n",
       "      <td>500000.0</td>\n",
       "      <td>C1</td>\n",
       "      <td>Self Employed</td>\n",
       "      <td>2.0</td>\n",
       "      <td>3-Jan-04</td>\n",
       "      <td>245899.02</td>\n",
       "      <td>NaN</td>\n",
       "      <td>2004</td>\n",
       "      <td>January</td>\n",
       "    </tr>\n",
       "  </tbody>\n",
       "</table>\n",
       "</div>"
      ],
      "text/plain": [
       "   No Customer   Age       City Product     Limit Company        Segment  \\\n",
       "0   1       A1  76.0  BANGALORE    Gold  500000.0      C1  Self Employed   \n",
       "1   1       A1  76.0  BANGALORE    Gold  500000.0      C1  Self Employed   \n",
       "\n",
       "   SL No:      Month     Amount  Unnamed: 4  Yearly  Monthly  \n",
       "0     NaN  12-Jan-04  495414.75         NaN    2004  January  \n",
       "1     2.0   3-Jan-04  245899.02         NaN    2004  January  "
      ]
     },
     "execution_count": 63,
     "metadata": {},
     "output_type": "execute_result"
    }
   ],
   "source": [
    "customer_repayment.head(2)"
   ]
  },
  {
   "cell_type": "code",
   "execution_count": 64,
   "metadata": {},
   "outputs": [
    {
     "name": "stdout",
     "output_type": "stream",
     "text": [
      "Product              Gold    Platimum     Silver\n",
      "Segment                                         \n",
      "Govt           25324822.4   8481453.4  7719992.6\n",
      "Normal Salary  36613898.2  23237460.8  5045391.2\n",
      "Salaried_MNC   25178098.8   8064845.3  6978795.5\n",
      "Salaried_Pvt   33485355.3   9994977.9  4124790.4\n",
      "Self Employed  37433866.3   7850995.4  5447616.4\n"
     ]
    },
    {
     "data": {
      "image/png": "[encoded data removed]",
      "text/plain": [
       "<Figure size 720x360 with 1 Axes>"
      ]
     },
     "metadata": {
      "needs_background": "light"
     },
     "output_type": "display_data"
    }
   ],
   "source": [
    "#Calculate the segment wise repayment on each product.Also include a graphical representation for the same.\n",
    "\n",
    "customer_repayment_sr=pd.pivot_table(data=customer_repayment,index='Segment',columns='Product',values='Amount',aggfunc='sum')\n",
    "\n",
    "print(round(customer_repayment_sr,1))\n",
    "customer_repayment_sr.plot(kind='bar',figsize=(10,5),width=(0.8))\n",
    "plt.margins(0.02)\n",
    "plt.ylabel(\"Repayment Amount\")\n",
    "plt.title(\"Amount repaymented by customers according to  segment\")\n",
    "plt.show()"
   ]
  },
  {
   "cell_type": "code",
   "execution_count": 65,
   "metadata": {
    "scrolled": true
   },
   "outputs": [
    {
     "name": "stdout",
     "output_type": "stream",
     "text": [
      "                   Amount\n",
      "Segment                  \n",
      "Govt           41526268.5\n",
      "Normal Salary  64896750.3\n",
      "Salaried_MNC   40221739.5\n",
      "Salaried_Pvt   47605123.7\n",
      "Self Employed  50732478.1\n"
     ]
    },
    {
     "data": {
      "image/png": "[encoded data removed]",
      "text/plain": [
       "<Figure size 720x360 with 1 Axes>"
      ]
     },
     "metadata": {
      "needs_background": "light"
     },
     "output_type": "display_data"
    }
   ],
   "source": [
    "#calculate the segment wise repayment. Also include a graphical representation for the same\n",
    "customer_repayment_sr=pd.pivot_table(data=customer_repayment,index='Segment',values='Amount',aggfunc='sum')\n",
    "\n",
    "print(round(customer_repayment_sr,1))\n",
    "customer_repayment_sr.plot(kind='bar',figsize=(10,5),width=(0.8))\n",
    "plt.margins(0.02)\n",
    "plt.ylabel(\"Repayment Amount\")\n",
    "plt.title(\"Amount repaymented by customers according to  segment\")\n",
    "plt.show()"
   ]
  },
  {
   "cell_type": "markdown",
   "metadata": {},
   "source": [
    "<div class='span4 alert alert-success'><b>The two graphs above illustrate the distribution of credit card payments by economic segments. Consistent with the previous two graphs demonstrating the distribution of customer spending, customers with gold and platinum cards who are at normal salary and self-employed segments make higher credit card payments than those at the other economic segments. Those who are self-employed, however, make slightly higher credit card payments than those who are at normal salary segment.</b></div>\n"
   ]
  },
  {
   "cell_type": "markdown",
   "metadata": {},
   "source": [
    "## 2.6 Create graphs for\n",
    "### Seasonal comparison of total spends, city wise"
   ]
  },
  {
   "cell_type": "code",
   "execution_count": 66,
   "metadata": {
    "scrolled": true
   },
   "outputs": [
    {
     "data": {
      "text/html": [
       "<div>\n",
       "<style scoped>\n",
       "    .dataframe tbody tr th:only-of-type {\n",
       "        vertical-align: middle;\n",
       "    }\n",
       "\n",
       "    .dataframe tbody tr th {\n",
       "        vertical-align: top;\n",
       "    }\n",
       "\n",
       "    .dataframe thead th {\n",
       "        text-align: right;\n",
       "    }\n",
       "</style>\n",
       "<table border=\"1\" class=\"dataframe\">\n",
       "  <thead>\n",
       "    <tr style=\"text-align: right;\">\n",
       "      <th></th>\n",
       "      <th>No</th>\n",
       "      <th>Customer</th>\n",
       "      <th>Age</th>\n",
       "      <th>City</th>\n",
       "      <th>Product</th>\n",
       "      <th>Limit</th>\n",
       "      <th>Company</th>\n",
       "      <th>Segment</th>\n",
       "      <th>Sl No:</th>\n",
       "      <th>Month</th>\n",
       "      <th>Type</th>\n",
       "      <th>Amount</th>\n",
       "      <th>Yearly</th>\n",
       "      <th>Monthly</th>\n",
       "      <th>Age Group</th>\n",
       "    </tr>\n",
       "  </thead>\n",
       "  <tbody>\n",
       "    <tr>\n",
       "      <td>0</td>\n",
       "      <td>1</td>\n",
       "      <td>A1</td>\n",
       "      <td>76.0</td>\n",
       "      <td>BANGALORE</td>\n",
       "      <td>Gold</td>\n",
       "      <td>500000.0</td>\n",
       "      <td>C1</td>\n",
       "      <td>Self Employed</td>\n",
       "      <td>1</td>\n",
       "      <td>12-Jan-04</td>\n",
       "      <td>JEWELLERY</td>\n",
       "      <td>485470.80</td>\n",
       "      <td>2004</td>\n",
       "      <td>January</td>\n",
       "      <td>66-82</td>\n",
       "    </tr>\n",
       "    <tr>\n",
       "      <td>1</td>\n",
       "      <td>1</td>\n",
       "      <td>A1</td>\n",
       "      <td>76.0</td>\n",
       "      <td>BANGALORE</td>\n",
       "      <td>Gold</td>\n",
       "      <td>500000.0</td>\n",
       "      <td>C1</td>\n",
       "      <td>Self Employed</td>\n",
       "      <td>2</td>\n",
       "      <td>3-Jan-04</td>\n",
       "      <td>PETRO</td>\n",
       "      <td>410556.13</td>\n",
       "      <td>2004</td>\n",
       "      <td>January</td>\n",
       "      <td>66-82</td>\n",
       "    </tr>\n",
       "  </tbody>\n",
       "</table>\n",
       "</div>"
      ],
      "text/plain": [
       "   No Customer   Age       City Product     Limit Company        Segment  \\\n",
       "0   1       A1  76.0  BANGALORE    Gold  500000.0      C1  Self Employed   \n",
       "1   1       A1  76.0  BANGALORE    Gold  500000.0      C1  Self Employed   \n",
       "\n",
       "   Sl No:      Month       Type     Amount Yearly  Monthly Age Group  \n",
       "0       1  12-Jan-04  JEWELLERY  485470.80   2004  January     66-82  \n",
       "1       2   3-Jan-04      PETRO  410556.13   2004  January     66-82  "
      ]
     },
     "execution_count": 66,
     "metadata": {},
     "output_type": "execute_result"
    }
   ],
   "source": [
    "customer_spend.head(2)"
   ]
  },
  {
   "cell_type": "code",
   "execution_count": 67,
   "metadata": {},
   "outputs": [
    {
     "data": {
      "text/html": [
       "<div>\n",
       "<style scoped>\n",
       "    .dataframe tbody tr th:only-of-type {\n",
       "        vertical-align: middle;\n",
       "    }\n",
       "\n",
       "    .dataframe tbody tr th {\n",
       "        vertical-align: top;\n",
       "    }\n",
       "\n",
       "    .dataframe thead th {\n",
       "        text-align: right;\n",
       "    }\n",
       "</style>\n",
       "<table border=\"1\" class=\"dataframe\">\n",
       "  <thead>\n",
       "    <tr style=\"text-align: right;\">\n",
       "      <th></th>\n",
       "      <th>No</th>\n",
       "      <th>Customer</th>\n",
       "      <th>Age</th>\n",
       "      <th>City</th>\n",
       "      <th>Product</th>\n",
       "      <th>Limit</th>\n",
       "      <th>Company</th>\n",
       "      <th>Segment</th>\n",
       "      <th>Sl No:</th>\n",
       "      <th>Month</th>\n",
       "      <th>Type</th>\n",
       "      <th>Amount</th>\n",
       "      <th>Yearly</th>\n",
       "      <th>Monthly</th>\n",
       "      <th>Age Group</th>\n",
       "      <th>Seasonal</th>\n",
       "    </tr>\n",
       "  </thead>\n",
       "  <tbody>\n",
       "    <tr>\n",
       "      <td>0</td>\n",
       "      <td>1</td>\n",
       "      <td>A1</td>\n",
       "      <td>76.0</td>\n",
       "      <td>BANGALORE</td>\n",
       "      <td>Gold</td>\n",
       "      <td>500000.0</td>\n",
       "      <td>C1</td>\n",
       "      <td>Self Employed</td>\n",
       "      <td>1</td>\n",
       "      <td>12-Jan-04</td>\n",
       "      <td>JEWELLERY</td>\n",
       "      <td>485470.80</td>\n",
       "      <td>2004</td>\n",
       "      <td>January</td>\n",
       "      <td>66-82</td>\n",
       "      <td>Winter</td>\n",
       "    </tr>\n",
       "    <tr>\n",
       "      <td>1</td>\n",
       "      <td>1</td>\n",
       "      <td>A1</td>\n",
       "      <td>76.0</td>\n",
       "      <td>BANGALORE</td>\n",
       "      <td>Gold</td>\n",
       "      <td>500000.0</td>\n",
       "      <td>C1</td>\n",
       "      <td>Self Employed</td>\n",
       "      <td>2</td>\n",
       "      <td>3-Jan-04</td>\n",
       "      <td>PETRO</td>\n",
       "      <td>410556.13</td>\n",
       "      <td>2004</td>\n",
       "      <td>January</td>\n",
       "      <td>66-82</td>\n",
       "      <td>Winter</td>\n",
       "    </tr>\n",
       "  </tbody>\n",
       "</table>\n",
       "</div>"
      ],
      "text/plain": [
       "   No Customer   Age       City Product     Limit Company        Segment  \\\n",
       "0   1       A1  76.0  BANGALORE    Gold  500000.0      C1  Self Employed   \n",
       "1   1       A1  76.0  BANGALORE    Gold  500000.0      C1  Self Employed   \n",
       "\n",
       "   Sl No:      Month       Type     Amount Yearly  Monthly Age Group Seasonal  \n",
       "0       1  12-Jan-04  JEWELLERY  485470.80   2004  January     66-82   Winter  \n",
       "1       2   3-Jan-04      PETRO  410556.13   2004  January     66-82   Winter  "
      ]
     },
     "execution_count": 67,
     "metadata": {},
     "output_type": "execute_result"
    }
   ],
   "source": [
    "seasonal=[]\n",
    "for i in customer_spend.Monthly :\n",
    "    if i in ['December','January','February'] :\n",
    "        seasonal.append('Winter')\n",
    "    elif i in ['March','April','May'] :\n",
    "        seasonal.append('Spring')\n",
    "    elif i in ['June','July','August']:\n",
    "        seasonal.append('Summer')\n",
    "    else :\n",
    "        seasonal.append('Fall')\n",
    "customer_spend['Seasonal']=seasonal\n",
    "customer_spend.head(2)"
   ]
  },
  {
   "cell_type": "code",
   "execution_count": 68,
   "metadata": {},
   "outputs": [
    {
     "data": {
      "text/html": [
       "<div>\n",
       "<style scoped>\n",
       "    .dataframe tbody tr th:only-of-type {\n",
       "        vertical-align: middle;\n",
       "    }\n",
       "\n",
       "    .dataframe tbody tr th {\n",
       "        vertical-align: top;\n",
       "    }\n",
       "\n",
       "    .dataframe thead th {\n",
       "        text-align: right;\n",
       "    }\n",
       "</style>\n",
       "<table border=\"1\" class=\"dataframe\">\n",
       "  <thead>\n",
       "    <tr style=\"text-align: right;\">\n",
       "      <th></th>\n",
       "      <th>Seasonal</th>\n",
       "      <th>City</th>\n",
       "      <th>Amount</th>\n",
       "    </tr>\n",
       "  </thead>\n",
       "  <tbody>\n",
       "    <tr>\n",
       "      <td>0</td>\n",
       "      <td>Fall</td>\n",
       "      <td>BANGALORE</td>\n",
       "      <td>4425229.46</td>\n",
       "    </tr>\n",
       "    <tr>\n",
       "      <td>1</td>\n",
       "      <td>Fall</td>\n",
       "      <td>BOMBAY</td>\n",
       "      <td>5396466.89</td>\n",
       "    </tr>\n",
       "  </tbody>\n",
       "</table>\n",
       "</div>"
      ],
      "text/plain": [
       "  Seasonal       City      Amount\n",
       "0     Fall  BANGALORE  4425229.46\n",
       "1     Fall     BOMBAY  5396466.89"
      ]
     },
     "execution_count": 68,
     "metadata": {},
     "output_type": "execute_result"
    }
   ],
   "source": [
    "#grouping data based on \"Seasonal\" and \"City\" columns\n",
    "month_city = customer_spend.groupby([\"Seasonal\",\"City\"])[[\"Amount\"]].sum().sort_index().reset_index()\n",
    "month_city.head(2)"
   ]
  },
  {
   "cell_type": "code",
   "execution_count": 69,
   "metadata": {},
   "outputs": [
    {
     "data": {
      "text/html": [
       "<div>\n",
       "<style scoped>\n",
       "    .dataframe tbody tr th:only-of-type {\n",
       "        vertical-align: middle;\n",
       "    }\n",
       "\n",
       "    .dataframe tbody tr th {\n",
       "        vertical-align: top;\n",
       "    }\n",
       "\n",
       "    .dataframe thead th {\n",
       "        text-align: right;\n",
       "    }\n",
       "</style>\n",
       "<table border=\"1\" class=\"dataframe\">\n",
       "  <thead>\n",
       "    <tr style=\"text-align: right;\">\n",
       "      <th>Seasonal</th>\n",
       "      <th>Fall</th>\n",
       "      <th>Spring</th>\n",
       "      <th>Summer</th>\n",
       "      <th>Winter</th>\n",
       "    </tr>\n",
       "    <tr>\n",
       "      <th>City</th>\n",
       "      <th></th>\n",
       "      <th></th>\n",
       "      <th></th>\n",
       "      <th></th>\n",
       "    </tr>\n",
       "  </thead>\n",
       "  <tbody>\n",
       "    <tr>\n",
       "      <td>BANGALORE</td>\n",
       "      <td>4425229.46</td>\n",
       "      <td>17584032.68</td>\n",
       "      <td>4663972.54</td>\n",
       "      <td>18073500.84</td>\n",
       "    </tr>\n",
       "    <tr>\n",
       "      <td>BOMBAY</td>\n",
       "      <td>5396466.89</td>\n",
       "      <td>12403603.61</td>\n",
       "      <td>2617067.04</td>\n",
       "      <td>11881048.34</td>\n",
       "    </tr>\n",
       "    <tr>\n",
       "      <td>CALCUTTA</td>\n",
       "      <td>4121959.33</td>\n",
       "      <td>15029822.36</td>\n",
       "      <td>6100977.10</td>\n",
       "      <td>18080434.51</td>\n",
       "    </tr>\n",
       "    <tr>\n",
       "      <td>CHENNAI</td>\n",
       "      <td>2304787.35</td>\n",
       "      <td>8963509.82</td>\n",
       "      <td>2318945.40</td>\n",
       "      <td>9296410.08</td>\n",
       "    </tr>\n",
       "    <tr>\n",
       "      <td>COCHIN</td>\n",
       "      <td>5753803.89</td>\n",
       "      <td>17514012.16</td>\n",
       "      <td>6308953.48</td>\n",
       "      <td>19801823.47</td>\n",
       "    </tr>\n",
       "    <tr>\n",
       "      <td>DELHI</td>\n",
       "      <td>656230.92</td>\n",
       "      <td>5644725.34</td>\n",
       "      <td>966686.25</td>\n",
       "      <td>6200687.53</td>\n",
       "    </tr>\n",
       "    <tr>\n",
       "      <td>PATNA</td>\n",
       "      <td>813545.16</td>\n",
       "      <td>6861939.94</td>\n",
       "      <td>1565570.77</td>\n",
       "      <td>8169546.10</td>\n",
       "    </tr>\n",
       "    <tr>\n",
       "      <td>TRIVANDRUM</td>\n",
       "      <td>675034.52</td>\n",
       "      <td>7020156.44</td>\n",
       "      <td>1184597.77</td>\n",
       "      <td>7517391.64</td>\n",
       "    </tr>\n",
       "  </tbody>\n",
       "</table>\n",
       "</div>"
      ],
      "text/plain": [
       "Seasonal          Fall       Spring      Summer       Winter\n",
       "City                                                        \n",
       "BANGALORE   4425229.46  17584032.68  4663972.54  18073500.84\n",
       "BOMBAY      5396466.89  12403603.61  2617067.04  11881048.34\n",
       "CALCUTTA    4121959.33  15029822.36  6100977.10  18080434.51\n",
       "CHENNAI     2304787.35   8963509.82  2318945.40   9296410.08\n",
       "COCHIN      5753803.89  17514012.16  6308953.48  19801823.47\n",
       "DELHI        656230.92   5644725.34   966686.25   6200687.53\n",
       "PATNA        813545.16   6861939.94  1565570.77   8169546.10\n",
       "TRIVANDRUM   675034.52   7020156.44  1184597.77   7517391.64"
      ]
     },
     "execution_count": 69,
     "metadata": {},
     "output_type": "execute_result"
    }
   ],
   "source": [
    "#creating pivot table based on \"Seasonal\" and \"City\" columns\n",
    "seasonal_city =pd.pivot_table(data=customer_spend,values='Amount',index='City',columns='Seasonal',aggfunc='sum')\n",
    "seasonal_city"
   ]
  },
  {
   "cell_type": "code",
   "execution_count": 70,
   "metadata": {
    "scrolled": true
   },
   "outputs": [
    {
     "data": {
      "image/png": "[encoded data removed]",
      "text/plain": [
       "<Figure size 1296x432 with 1 Axes>"
      ]
     },
     "metadata": {
      "needs_background": "light"
     },
     "output_type": "display_data"
    }
   ],
   "source": [
    "seasonal_city.plot(kind=\"bar\",figsize=(18,6),width=0.8)\n",
    "plt.show()"
   ]
  },
  {
   "cell_type": "markdown",
   "metadata": {},
   "source": [
    "<div class='span4 alert alert-success'><b>The graph above illustrates the seasonal distribution of customer spending on different cities. It reports that the winter season sees highest amount of customer spending, except for the city of Bombay where the customer spending in spring is higher than the seasons. The highest winter season spending has been made in Cochin, the highest spring season spending has been made in Cochin and Bangalore, the highest fall spending has been made in Bombay and Cochin. Finally, the highest summer spending has been made in Cochin and Calcutta.</b></div>\n"
   ]
  },
  {
   "cell_type": "markdown",
   "metadata": {},
   "source": [
    "### Comparison of seasonal spend for each product (look for any seasonality that exists in terms of spend)"
   ]
  },
  {
   "cell_type": "code",
   "execution_count": 71,
   "metadata": {},
   "outputs": [
    {
     "data": {
      "text/html": [
       "<div>\n",
       "<style scoped>\n",
       "    .dataframe tbody tr th:only-of-type {\n",
       "        vertical-align: middle;\n",
       "    }\n",
       "\n",
       "    .dataframe tbody tr th {\n",
       "        vertical-align: top;\n",
       "    }\n",
       "\n",
       "    .dataframe thead th {\n",
       "        text-align: right;\n",
       "    }\n",
       "</style>\n",
       "<table border=\"1\" class=\"dataframe\">\n",
       "  <thead>\n",
       "    <tr style=\"text-align: right;\">\n",
       "      <th>Seasonal</th>\n",
       "      <th>Fall</th>\n",
       "      <th>Spring</th>\n",
       "      <th>Summer</th>\n",
       "      <th>Winter</th>\n",
       "    </tr>\n",
       "    <tr>\n",
       "      <th>Product</th>\n",
       "      <th></th>\n",
       "      <th></th>\n",
       "      <th></th>\n",
       "      <th></th>\n",
       "    </tr>\n",
       "  </thead>\n",
       "  <tbody>\n",
       "    <tr>\n",
       "      <td>Gold</td>\n",
       "      <td>16038378.46</td>\n",
       "      <td>53975714.83</td>\n",
       "      <td>16660309.43</td>\n",
       "      <td>59525952.34</td>\n",
       "    </tr>\n",
       "    <tr>\n",
       "      <td>Platimum</td>\n",
       "      <td>5924759.80</td>\n",
       "      <td>23443349.53</td>\n",
       "      <td>6453648.27</td>\n",
       "      <td>27800886.28</td>\n",
       "    </tr>\n",
       "    <tr>\n",
       "      <td>Silver</td>\n",
       "      <td>2183919.26</td>\n",
       "      <td>13602737.99</td>\n",
       "      <td>2612812.65</td>\n",
       "      <td>11694003.89</td>\n",
       "    </tr>\n",
       "  </tbody>\n",
       "</table>\n",
       "</div>"
      ],
      "text/plain": [
       "Seasonal         Fall       Spring       Summer       Winter\n",
       "Product                                                     \n",
       "Gold      16038378.46  53975714.83  16660309.43  59525952.34\n",
       "Platimum   5924759.80  23443349.53   6453648.27  27800886.28\n",
       "Silver     2183919.26  13602737.99   2612812.65  11694003.89"
      ]
     },
     "execution_count": 71,
     "metadata": {},
     "output_type": "execute_result"
    }
   ],
   "source": [
    "#creating pivot table based on \"Monthly\" and \"Product\" columns\n",
    "product_wise = pd.pivot_table(data=customer_spend,index='Product',columns='Seasonal',values='Amount',aggfunc='sum')\n",
    "product_wise"
   ]
  },
  {
   "cell_type": "code",
   "execution_count": 72,
   "metadata": {
    "scrolled": false
   },
   "outputs": [
    {
     "data": {
      "image/png": "[encoded data removed]",
      "text/plain": [
       "<Figure size 1296x432 with 1 Axes>"
      ]
     },
     "metadata": {
      "needs_background": "light"
     },
     "output_type": "display_data"
    }
   ],
   "source": [
    "product_wise.plot(kind=\"bar\",figsize=(18,6),width=0.8)\n",
    "plt.ylabel(\"Amount Spend\")\n",
    "plt.title(\"Amount spent monthly on different products\")\n",
    "plt.show()"
   ]
  },
  {
   "cell_type": "markdown",
   "metadata": {},
   "source": [
    "<div class='span4 alert alert-success'><b>In the graph above, I have made a comparison across three products based on season. It shows that the highest customer spending with gold and platinum cards have been made in winter season. As for the customer spending with the silver card, the highest spending has been made in spring season.\n",
    "</b></div>\n"
   ]
  },
  {
   "cell_type": "markdown",
   "metadata": {},
   "source": [
    "<div class='span4 alert alert-success'><b>We can see from the above graph that the sales are high for all the Products during the seasons:\n",
    "\n",
    "   * Winter\n",
    "   * Spring\n",
    "\n",
    "Out of these seasons,highest sales are in Winter.</b></div>"
   ]
  },
  {
   "cell_type": "markdown",
   "metadata": {},
   "source": [
    "### Comparison histogram of log10 spend amount and repayment  amount"
   ]
  },
  {
   "cell_type": "code",
   "execution_count": 73,
   "metadata": {
    "scrolled": true
   },
   "outputs": [
    {
     "data": {
      "text/plain": [
       "<matplotlib.legend.Legend at 0x1e0800b4208>"
      ]
     },
     "execution_count": 73,
     "metadata": {},
     "output_type": "execute_result"
    },
    {
     "data": {
      "image/png": "[encoded data removed]",
      "text/plain": [
       "<Figure size 720x360 with 1 Axes>"
      ]
     },
     "metadata": {
      "needs_background": "light"
     },
     "output_type": "display_data"
    }
   ],
   "source": [
    "spend['log10_Amount_Spend']=np.log10(spend['Amount'])\n",
    "repayment['log10_Amount_Repayment']=np.log10(repayment['Amount'])\n",
    "\n",
    "plt.figure(figsize=(10,5))\n",
    "plt.margins(0.02)\n",
    "\n",
    "repayment.log10_Amount_Repayment.plot.hist(histtype='step', bins=50,color='red',label='Repayment log10 Amount')\n",
    "spend.log10_Amount_Spend.plot.hist(histtype='step',bins=50,color='blue',label='Spend log10 Amount')\n",
    "\n",
    "plt.xlabel('log10_Amount')\n",
    "plt.axvline(repayment.log10_Amount_Repayment.mean(),marker='.',color='red',label='Repayment log10 Amount mean')\n",
    "plt.axvline(spend.log10_Amount_Spend.mean(),marker='.',color='blue',label='Spend log10 Amount mean',alpha=0.5)\n",
    "\n",
    "plt.legend()\n",
    "\n"
   ]
  },
  {
   "cell_type": "markdown",
   "metadata": {},
   "source": [
    "<div class='span4 alert alert-success'><b>In the graph above, I have demonstrated the changes in the amounts of credit card payments and customer spending.  The graph shows that as the customer spending increases, the amounts of credit card payments increases.</b></div>\n"
   ]
  },
  {
   "cell_type": "markdown",
   "metadata": {},
   "source": [
    "## 2.7 Correlation Between Features\n",
    "\n",
    "\n",
    "Before looking at the correlation structure between the features in our project, we need to convert the features with \"Object\" data type to \"Categorical\" data type. "
   ]
  },
  {
   "cell_type": "code",
   "execution_count": 74,
   "metadata": {
    "scrolled": true
   },
   "outputs": [
    {
     "data": {
      "text/html": [
       "<div>\n",
       "<style scoped>\n",
       "    .dataframe tbody tr th:only-of-type {\n",
       "        vertical-align: middle;\n",
       "    }\n",
       "\n",
       "    .dataframe tbody tr th {\n",
       "        vertical-align: top;\n",
       "    }\n",
       "\n",
       "    .dataframe thead th {\n",
       "        text-align: right;\n",
       "    }\n",
       "</style>\n",
       "<table border=\"1\" class=\"dataframe\">\n",
       "  <thead>\n",
       "    <tr style=\"text-align: right;\">\n",
       "      <th></th>\n",
       "      <th>No</th>\n",
       "      <th>Customer</th>\n",
       "      <th>Age</th>\n",
       "      <th>City</th>\n",
       "      <th>Product</th>\n",
       "      <th>Limit</th>\n",
       "      <th>Company</th>\n",
       "      <th>Segment</th>\n",
       "      <th>Sl No:</th>\n",
       "      <th>Month</th>\n",
       "      <th>Type</th>\n",
       "      <th>Amount_spend</th>\n",
       "      <th>Yearly</th>\n",
       "      <th>Monthly</th>\n",
       "      <th>Age Group</th>\n",
       "      <th>Seasonal</th>\n",
       "      <th>SL No:</th>\n",
       "      <th>Amount_repayment</th>\n",
       "      <th>Unnamed: 4</th>\n",
       "      <th>log10_Amount_Repayment</th>\n",
       "    </tr>\n",
       "  </thead>\n",
       "  <tbody>\n",
       "    <tr>\n",
       "      <td>0</td>\n",
       "      <td>1</td>\n",
       "      <td>A1</td>\n",
       "      <td>76.0</td>\n",
       "      <td>BANGALORE</td>\n",
       "      <td>Gold</td>\n",
       "      <td>500000.0</td>\n",
       "      <td>C1</td>\n",
       "      <td>Self Employed</td>\n",
       "      <td>1</td>\n",
       "      <td>12-Jan-04</td>\n",
       "      <td>JEWELLERY</td>\n",
       "      <td>485470.8</td>\n",
       "      <td>2004</td>\n",
       "      <td>January</td>\n",
       "      <td>66-82</td>\n",
       "      <td>Winter</td>\n",
       "      <td>NaN</td>\n",
       "      <td>495414.75</td>\n",
       "      <td>NaN</td>\n",
       "      <td>5.694969</td>\n",
       "    </tr>\n",
       "    <tr>\n",
       "      <td>1</td>\n",
       "      <td>1</td>\n",
       "      <td>A1</td>\n",
       "      <td>76.0</td>\n",
       "      <td>BANGALORE</td>\n",
       "      <td>Gold</td>\n",
       "      <td>500000.0</td>\n",
       "      <td>C1</td>\n",
       "      <td>Self Employed</td>\n",
       "      <td>1</td>\n",
       "      <td>12-Jan-04</td>\n",
       "      <td>JEWELLERY</td>\n",
       "      <td>485470.8</td>\n",
       "      <td>2004</td>\n",
       "      <td>January</td>\n",
       "      <td>66-82</td>\n",
       "      <td>Winter</td>\n",
       "      <td>103.0</td>\n",
       "      <td>350446.82</td>\n",
       "      <td>NaN</td>\n",
       "      <td>5.544622</td>\n",
       "    </tr>\n",
       "  </tbody>\n",
       "</table>\n",
       "</div>"
      ],
      "text/plain": [
       "   No Customer   Age       City Product     Limit Company        Segment  \\\n",
       "0   1       A1  76.0  BANGALORE    Gold  500000.0      C1  Self Employed   \n",
       "1   1       A1  76.0  BANGALORE    Gold  500000.0      C1  Self Employed   \n",
       "\n",
       "   Sl No:      Month       Type  Amount_spend Yearly  Monthly Age Group  \\\n",
       "0       1  12-Jan-04  JEWELLERY      485470.8   2004  January     66-82   \n",
       "1       1  12-Jan-04  JEWELLERY      485470.8   2004  January     66-82   \n",
       "\n",
       "  Seasonal  SL No:  Amount_repayment  Unnamed: 4  log10_Amount_Repayment  \n",
       "0   Winter     NaN         495414.75         NaN                5.694969  \n",
       "1   Winter   103.0         350446.82         NaN                5.544622  "
      ]
     },
     "execution_count": 74,
     "metadata": {},
     "output_type": "execute_result"
    }
   ],
   "source": [
    "one_table=pd.merge(customer_spend,repayment,how='inner',on=['Customer','Month'],suffixes=('_spend','_repayment'))\n",
    "\n",
    "one_table.head(2)\n"
   ]
  },
  {
   "cell_type": "code",
   "execution_count": 75,
   "metadata": {},
   "outputs": [
    {
     "data": {
      "text/html": [
       "<div>\n",
       "<style scoped>\n",
       "    .dataframe tbody tr th:only-of-type {\n",
       "        vertical-align: middle;\n",
       "    }\n",
       "\n",
       "    .dataframe tbody tr th {\n",
       "        vertical-align: top;\n",
       "    }\n",
       "\n",
       "    .dataframe thead th {\n",
       "        text-align: right;\n",
       "    }\n",
       "</style>\n",
       "<table border=\"1\" class=\"dataframe\">\n",
       "  <thead>\n",
       "    <tr style=\"text-align: right;\">\n",
       "      <th></th>\n",
       "      <th>No</th>\n",
       "      <th>Customer</th>\n",
       "      <th>Age</th>\n",
       "      <th>City</th>\n",
       "      <th>Product</th>\n",
       "      <th>Limit</th>\n",
       "      <th>Company</th>\n",
       "      <th>Segment</th>\n",
       "      <th>Sl No:</th>\n",
       "      <th>Month</th>\n",
       "      <th>Type</th>\n",
       "      <th>Amount_spend</th>\n",
       "      <th>Yearly</th>\n",
       "      <th>Monthly</th>\n",
       "      <th>Age Group</th>\n",
       "      <th>Seasonal</th>\n",
       "      <th>SL No:</th>\n",
       "      <th>Amount_repayment</th>\n",
       "      <th>Unnamed: 4</th>\n",
       "    </tr>\n",
       "  </thead>\n",
       "  <tbody>\n",
       "    <tr>\n",
       "      <td>0</td>\n",
       "      <td>1</td>\n",
       "      <td>A1</td>\n",
       "      <td>76.0</td>\n",
       "      <td>BANGALORE</td>\n",
       "      <td>Gold</td>\n",
       "      <td>500000.0</td>\n",
       "      <td>C1</td>\n",
       "      <td>Self Employed</td>\n",
       "      <td>1</td>\n",
       "      <td>12-Jan-04</td>\n",
       "      <td>JEWELLERY</td>\n",
       "      <td>485470.8</td>\n",
       "      <td>2004</td>\n",
       "      <td>January</td>\n",
       "      <td>66-82</td>\n",
       "      <td>Winter</td>\n",
       "      <td>NaN</td>\n",
       "      <td>495414.75</td>\n",
       "      <td>NaN</td>\n",
       "    </tr>\n",
       "    <tr>\n",
       "      <td>1</td>\n",
       "      <td>1</td>\n",
       "      <td>A1</td>\n",
       "      <td>76.0</td>\n",
       "      <td>BANGALORE</td>\n",
       "      <td>Gold</td>\n",
       "      <td>500000.0</td>\n",
       "      <td>C1</td>\n",
       "      <td>Self Employed</td>\n",
       "      <td>1</td>\n",
       "      <td>12-Jan-04</td>\n",
       "      <td>JEWELLERY</td>\n",
       "      <td>485470.8</td>\n",
       "      <td>2004</td>\n",
       "      <td>January</td>\n",
       "      <td>66-82</td>\n",
       "      <td>Winter</td>\n",
       "      <td>103.0</td>\n",
       "      <td>350446.82</td>\n",
       "      <td>NaN</td>\n",
       "    </tr>\n",
       "  </tbody>\n",
       "</table>\n",
       "</div>"
      ],
      "text/plain": [
       "   No Customer   Age       City Product     Limit Company        Segment  \\\n",
       "0   1       A1  76.0  BANGALORE    Gold  500000.0      C1  Self Employed   \n",
       "1   1       A1  76.0  BANGALORE    Gold  500000.0      C1  Self Employed   \n",
       "\n",
       "   Sl No:      Month       Type  Amount_spend Yearly  Monthly Age Group  \\\n",
       "0       1  12-Jan-04  JEWELLERY      485470.8   2004  January     66-82   \n",
       "1       1  12-Jan-04  JEWELLERY      485470.8   2004  January     66-82   \n",
       "\n",
       "  Seasonal  SL No:  Amount_repayment  Unnamed: 4  \n",
       "0   Winter     NaN         495414.75         NaN  \n",
       "1   Winter   103.0         350446.82         NaN  "
      ]
     },
     "execution_count": 75,
     "metadata": {},
     "output_type": "execute_result"
    }
   ],
   "source": [
    "one_table=one_table.drop(['log10_Amount_Repayment'],axis=1)\n",
    "one_table.head(2)"
   ]
  },
  {
   "cell_type": "code",
   "execution_count": 76,
   "metadata": {},
   "outputs": [],
   "source": [
    "# define a temporary data frame\n",
    "df_temp = one_table.copy()"
   ]
  },
  {
   "cell_type": "code",
   "execution_count": 77,
   "metadata": {},
   "outputs": [
    {
     "data": {
      "text/plain": [
       "(863, 9)"
      ]
     },
     "execution_count": 77,
     "metadata": {},
     "output_type": "execute_result"
    }
   ],
   "source": [
    "# select the features with \"Object\" data type\n",
    "df_Obj = df_temp.select_dtypes(include='object')\n",
    "\n",
    "# check the number of columns with \"Object\" data type\n",
    "df_Obj.shape"
   ]
  },
  {
   "cell_type": "code",
   "execution_count": 78,
   "metadata": {},
   "outputs": [],
   "source": [
    "# define a lambda function to be used to convert object type to \n",
    "# categorical data type\n",
    "categorize_label = lambda x: x.astype('category').cat.codes\n",
    "\n",
    "# convert the columns with \"Object\" data type to \"Categorical\" data type\n",
    "df_temp[df_Obj.columns] = df_temp[df_Obj.columns].apply(categorize_label, axis=0)"
   ]
  },
  {
   "cell_type": "code",
   "execution_count": 79,
   "metadata": {
    "scrolled": true
   },
   "outputs": [
    {
     "data": {
      "image/png": "[encoded data removed]",
      "text/plain": [
       "<Figure size 792x648 with 2 Axes>"
      ]
     },
     "metadata": {
      "needs_background": "light"
     },
     "output_type": "display_data"
    }
   ],
   "source": [
    "# Now let's visualize the correlations \n",
    "# Generate a mask for the upper triangle\n",
    "mask = np.zeros_like(df_temp.corr(), dtype=np.bool)\n",
    "mask[np.triu_indices_from(mask)] = True\n",
    "\n",
    "\n",
    "_ = plt.figure(figsize=(11,9))\n",
    "_ = sns.set(font_scale=1.3)\n",
    "ax = sns.heatmap(df_temp.corr(), vmin=-1, vmax=1,square=True, \n",
    "                 annot=True, cmap='bwr', cbar=True, fmt=\".2f\",mask=mask)\n",
    "\n",
    "\n",
    "# display the heatmap\n",
    "plt.show()"
   ]
  },
  {
   "cell_type": "markdown",
   "metadata": {},
   "source": [
    "<div class= 'span4 alert alert-success'><b>Since the data includes many features, the entire dataset was divided into two parts to create a correlation matrix by using the heatmap that is illustrated below. Features with object data type were converted into categorical data type and the correlation matrix below includes those features with categorical codes.\n",
    "    \n",
    "The first(above) heatmap illustrates the relationships between the variables. While the red color indicates a positive correlation between the two variables, blue color indicates negative correlation. The magnitudes of correlations have also been shown on the heatmap. In the second heatmap, I looked at only the variables of interest in my project, which are credit card spending limit, customer spending, and credit card payments.</b></div>"
   ]
  },
  {
   "cell_type": "code",
   "execution_count": 80,
   "metadata": {},
   "outputs": [
    {
     "data": {
      "text/html": [
       "<div>\n",
       "<style scoped>\n",
       "    .dataframe tbody tr th:only-of-type {\n",
       "        vertical-align: middle;\n",
       "    }\n",
       "\n",
       "    .dataframe tbody tr th {\n",
       "        vertical-align: top;\n",
       "    }\n",
       "\n",
       "    .dataframe thead th {\n",
       "        text-align: right;\n",
       "    }\n",
       "</style>\n",
       "<table border=\"1\" class=\"dataframe\">\n",
       "  <thead>\n",
       "    <tr style=\"text-align: right;\">\n",
       "      <th></th>\n",
       "      <th>Limit</th>\n",
       "      <th>Amount_spend</th>\n",
       "      <th>Amount_repayment</th>\n",
       "      <th>Product</th>\n",
       "    </tr>\n",
       "  </thead>\n",
       "  <tbody>\n",
       "    <tr>\n",
       "      <td>0</td>\n",
       "      <td>500000.0</td>\n",
       "      <td>485470.80</td>\n",
       "      <td>495414.75</td>\n",
       "      <td>0</td>\n",
       "    </tr>\n",
       "    <tr>\n",
       "      <td>1</td>\n",
       "      <td>500000.0</td>\n",
       "      <td>485470.80</td>\n",
       "      <td>350446.82</td>\n",
       "      <td>0</td>\n",
       "    </tr>\n",
       "    <tr>\n",
       "      <td>2</td>\n",
       "      <td>500000.0</td>\n",
       "      <td>440563.22</td>\n",
       "      <td>495414.75</td>\n",
       "      <td>0</td>\n",
       "    </tr>\n",
       "    <tr>\n",
       "      <td>3</td>\n",
       "      <td>500000.0</td>\n",
       "      <td>440563.22</td>\n",
       "      <td>350446.82</td>\n",
       "      <td>0</td>\n",
       "    </tr>\n",
       "    <tr>\n",
       "      <td>4</td>\n",
       "      <td>500000.0</td>\n",
       "      <td>410556.13</td>\n",
       "      <td>245899.02</td>\n",
       "      <td>0</td>\n",
       "    </tr>\n",
       "    <tr>\n",
       "      <td>...</td>\n",
       "      <td>...</td>\n",
       "      <td>...</td>\n",
       "      <td>...</td>\n",
       "      <td>...</td>\n",
       "    </tr>\n",
       "    <tr>\n",
       "      <td>858</td>\n",
       "      <td>100000.0</td>\n",
       "      <td>54729.66</td>\n",
       "      <td>310992.30</td>\n",
       "      <td>2</td>\n",
       "    </tr>\n",
       "    <tr>\n",
       "      <td>859</td>\n",
       "      <td>10000.0</td>\n",
       "      <td>10000.00</td>\n",
       "      <td>121874.90</td>\n",
       "      <td>1</td>\n",
       "    </tr>\n",
       "    <tr>\n",
       "      <td>860</td>\n",
       "      <td>10001.0</td>\n",
       "      <td>10001.00</td>\n",
       "      <td>337815.57</td>\n",
       "      <td>1</td>\n",
       "    </tr>\n",
       "    <tr>\n",
       "      <td>861</td>\n",
       "      <td>10002.0</td>\n",
       "      <td>10002.00</td>\n",
       "      <td>25682.73</td>\n",
       "      <td>1</td>\n",
       "    </tr>\n",
       "    <tr>\n",
       "      <td>862</td>\n",
       "      <td>100000.0</td>\n",
       "      <td>100000.00</td>\n",
       "      <td>69551.19</td>\n",
       "      <td>2</td>\n",
       "    </tr>\n",
       "  </tbody>\n",
       "</table>\n",
       "<p>863 rows × 4 columns</p>\n",
       "</div>"
      ],
      "text/plain": [
       "        Limit  Amount_spend  Amount_repayment  Product\n",
       "0    500000.0     485470.80         495414.75        0\n",
       "1    500000.0     485470.80         350446.82        0\n",
       "2    500000.0     440563.22         495414.75        0\n",
       "3    500000.0     440563.22         350446.82        0\n",
       "4    500000.0     410556.13         245899.02        0\n",
       "..        ...           ...               ...      ...\n",
       "858  100000.0      54729.66         310992.30        2\n",
       "859   10000.0      10000.00         121874.90        1\n",
       "860   10001.0      10001.00         337815.57        1\n",
       "861   10002.0      10002.00          25682.73        1\n",
       "862  100000.0     100000.00          69551.19        2\n",
       "\n",
       "[863 rows x 4 columns]"
      ]
     },
     "execution_count": 80,
     "metadata": {},
     "output_type": "execute_result"
    }
   ],
   "source": [
    "\n",
    "df_temp=df_temp[['Limit','Amount_spend','Amount_repayment','Product']]\n",
    "#temp_features=df_temp.columns\n",
    "#x1=list(temp_features[5,10,15])\n",
    "#temp_features\n",
    "df_temp"
   ]
  },
  {
   "cell_type": "code",
   "execution_count": 81,
   "metadata": {
    "code_folding": []
   },
   "outputs": [
    {
     "data": {
      "image/png": "[encoded data removed]",
      "text/plain": [
       "<Figure size 720x360 with 2 Axes>"
      ]
     },
     "metadata": {},
     "output_type": "display_data"
    }
   ],
   "source": [
    "# Now let's visualize the correlations \n",
    "# Generate a mask for the upper triangle\n",
    "mask = np.zeros_like(df_temp.corr(), dtype=np.bool)\n",
    "mask[np.triu_indices_from(mask)] = True\n",
    "\n",
    "_ = plt.figure(figsize=(10,5))\n",
    "_ = sns.set(font_scale=1.3)\n",
    "ax = sns.heatmap(df_temp.corr(), vmin=-1, vmax=1,square=True, \n",
    "                 annot=True, cmap='bwr', cbar=True, fmt=\".2f\",mask=mask)\n",
    "\n",
    "\n",
    "# display the heatmap\n",
    "plt.show()"
   ]
  },
  {
   "cell_type": "markdown",
   "metadata": {},
   "source": [
    "<div class= 'span4 alert alert-success'><b>\n",
    "    The second heatmap demonstrates that there is a positive and significant correlation between credit card limit and customer spending. The correlation coefficient is reported 0.63. However, the heatmap below shows that credit card payment isn’t significantly correlated with credit card limit (p=0.02) and</b></div>\n",
    "    "
   ]
  },
  {
   "cell_type": "code",
   "execution_count": null,
   "metadata": {},
   "outputs": [],
   "source": []
  },
  {
   "cell_type": "code",
   "execution_count": null,
   "metadata": {},
   "outputs": [],
   "source": []
  }
 ],
 "metadata": {
  "celltoolbar": "Raw Cell Format",
  "kernelspec": {
   "display_name": "Python 3.7.4 Base",
   "language": "python",
   "name": "python3"
  },
  "language_info": {
   "codemirror_mode": {
    "name": "ipython",
    "version": 3
   },
   "file_extension": ".py",
   "mimetype": "text/x-python",
   "name": "python",
   "nbconvert_exporter": "python",
   "pygments_lexer": "ipython3",
   "version": "3.7.4"
  },
  "toc": {
   "base_numbering": 1,
   "nav_menu": {
    "height": "394.38751220703125px",
    "width": "319px"
   },
   "number_sections": false,
   "sideBar": true,
   "skip_h1_title": false,
   "title_cell": "Table of Contents",
   "title_sidebar": "Contents",
   "toc_cell": true,
   "toc_position": {
    "height": "calc(100% - 180px)",
    "left": "10px",
    "top": "150px",
    "width": "165px"
   },
   "toc_section_display": true,
   "toc_window_display": true
  }
 },
 "nbformat": 4,
 "nbformat_minor": 2
}
